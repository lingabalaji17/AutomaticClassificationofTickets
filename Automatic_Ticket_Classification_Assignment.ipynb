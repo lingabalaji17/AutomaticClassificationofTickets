{
 "cells": [
  {
   "cell_type": "markdown",
   "metadata": {
    "id": "rhR-ZUkwJrFn"
   },
   "source": [
    "## Problem Statement \n",
    "\n",
    "You need to build a model that is able to classify customer complaints based on the products/services. By doing so, you can segregate these tickets into their relevant categories and, therefore, help in the quick resolution of the issue.\n",
    "\n",
    "You will be doing topic modelling on the <b>.json</b> data provided by the company. Since this data is not labelled, you need to apply NMF to analyse patterns and classify tickets into the following five clusters based on their products/services:\n",
    "\n",
    "* Credit card / Prepaid card\n",
    "\n",
    "* Bank account services\n",
    "\n",
    "* Theft/Dispute reporting\n",
    "\n",
    "* Mortgages/loans\n",
    "\n",
    "* Others \n",
    "\n",
    "\n",
    "With the help of topic modelling, you will be able to map each ticket onto its respective department/category. You can then use this data to train any supervised model such as logistic regression, decision tree or random forest. Using this trained model, you can classify any new customer complaint support ticket into its relevant department."
   ]
  },
  {
   "cell_type": "markdown",
   "metadata": {
    "id": "mcgXVNyaLUFS"
   },
   "source": [
    "## Pipelines that needs to be performed:\n",
    "\n",
    "You need to perform the following eight major tasks to complete the assignment:\n",
    "\n",
    "1.  Data loading\n",
    "\n",
    "2. Text preprocessing\n",
    "\n",
    "3. Exploratory data analysis (EDA)\n",
    "\n",
    "4. Feature extraction\n",
    "\n",
    "5. Topic modelling \n",
    "\n",
    "6. Model building using supervised learning\n",
    "\n",
    "7. Model training and evaluation\n",
    "\n",
    "8. Model inference"
   ]
  },
  {
   "cell_type": "markdown",
   "metadata": {
    "id": "JuLFIymAL58u"
   },
   "source": [
    "## Importing the necessary libraries"
   ]
  },
  {
   "cell_type": "code",
   "execution_count": 1,
   "metadata": {
    "id": "O-Q9pqrcJrFr"
   },
   "outputs": [],
   "source": [
    "import json \n",
    "import numpy as np\n",
    "import pandas as pd\n",
    "import re, nltk, spacy, string\n",
    "import en_core_web_sm\n",
    "nlp = en_core_web_sm.load()\n",
    "import seaborn as sns\n",
    "import matplotlib.pyplot as plt\n",
    "%matplotlib inline\n",
    "\n",
    "from plotly.offline import plot\n",
    "import plotly.graph_objects as go\n",
    "import plotly.express as px\n",
    "\n",
    "from sklearn.feature_extraction.text import CountVectorizer, TfidfVectorizer\n",
    "from pprint import pprint"
   ]
  },
  {
   "cell_type": "markdown",
   "metadata": {
    "id": "KtRLCsNVJrFt"
   },
   "source": [
    "## Loading the data\n",
    "\n",
    "The data is in JSON format and we need to convert it to a dataframe."
   ]
  },
  {
   "cell_type": "code",
   "execution_count": 2,
   "metadata": {
    "id": "puVzIf_iJrFt"
   },
   "outputs": [],
   "source": [
    "# Opening JSON file \n",
    "f = open('complaints-2021-05-14_08_16.json',)# Write the path to your data file and load it \n",
    "  \n",
    "# returns JSON object as  \n",
    "# a dictionary \n",
    "data = json.load(f)\n",
    "df=pd.json_normalize(data)"
   ]
  },
  {
   "cell_type": "markdown",
   "metadata": {
    "id": "_xYpH-sAJrFu"
   },
   "source": [
    "## Data preparation"
   ]
  },
  {
   "cell_type": "code",
   "execution_count": 3,
   "metadata": {
    "id": "Lf8ufHH5JrFu"
   },
   "outputs": [
    {
     "data": {
      "text/html": [
       "<div>\n",
       "<style scoped>\n",
       "    .dataframe tbody tr th:only-of-type {\n",
       "        vertical-align: middle;\n",
       "    }\n",
       "\n",
       "    .dataframe tbody tr th {\n",
       "        vertical-align: top;\n",
       "    }\n",
       "\n",
       "    .dataframe thead th {\n",
       "        text-align: right;\n",
       "    }\n",
       "</style>\n",
       "<table border=\"1\" class=\"dataframe\">\n",
       "  <thead>\n",
       "    <tr style=\"text-align: right;\">\n",
       "      <th></th>\n",
       "      <th>_index</th>\n",
       "      <th>_type</th>\n",
       "      <th>_id</th>\n",
       "      <th>_score</th>\n",
       "      <th>_source.tags</th>\n",
       "      <th>_source.zip_code</th>\n",
       "      <th>_source.complaint_id</th>\n",
       "      <th>_source.issue</th>\n",
       "      <th>_source.date_received</th>\n",
       "      <th>_source.state</th>\n",
       "      <th>...</th>\n",
       "      <th>_source.company_response</th>\n",
       "      <th>_source.company</th>\n",
       "      <th>_source.submitted_via</th>\n",
       "      <th>_source.date_sent_to_company</th>\n",
       "      <th>_source.company_public_response</th>\n",
       "      <th>_source.sub_product</th>\n",
       "      <th>_source.timely</th>\n",
       "      <th>_source.complaint_what_happened</th>\n",
       "      <th>_source.sub_issue</th>\n",
       "      <th>_source.consumer_consent_provided</th>\n",
       "    </tr>\n",
       "  </thead>\n",
       "  <tbody>\n",
       "    <tr>\n",
       "      <th>0</th>\n",
       "      <td>complaint-public-v2</td>\n",
       "      <td>complaint</td>\n",
       "      <td>3211475</td>\n",
       "      <td>0.0</td>\n",
       "      <td>None</td>\n",
       "      <td>90301</td>\n",
       "      <td>3211475</td>\n",
       "      <td>Attempts to collect debt not owed</td>\n",
       "      <td>2019-04-13T12:00:00-05:00</td>\n",
       "      <td>CA</td>\n",
       "      <td>...</td>\n",
       "      <td>Closed with explanation</td>\n",
       "      <td>JPMORGAN CHASE &amp; CO.</td>\n",
       "      <td>Web</td>\n",
       "      <td>2019-04-13T12:00:00-05:00</td>\n",
       "      <td>None</td>\n",
       "      <td>Credit card debt</td>\n",
       "      <td>Yes</td>\n",
       "      <td></td>\n",
       "      <td>Debt is not yours</td>\n",
       "      <td>Consent not provided</td>\n",
       "    </tr>\n",
       "    <tr>\n",
       "      <th>1</th>\n",
       "      <td>complaint-public-v2</td>\n",
       "      <td>complaint</td>\n",
       "      <td>3229299</td>\n",
       "      <td>0.0</td>\n",
       "      <td>Servicemember</td>\n",
       "      <td>319XX</td>\n",
       "      <td>3229299</td>\n",
       "      <td>Written notification about debt</td>\n",
       "      <td>2019-05-01T12:00:00-05:00</td>\n",
       "      <td>GA</td>\n",
       "      <td>...</td>\n",
       "      <td>Closed with explanation</td>\n",
       "      <td>JPMORGAN CHASE &amp; CO.</td>\n",
       "      <td>Web</td>\n",
       "      <td>2019-05-01T12:00:00-05:00</td>\n",
       "      <td>None</td>\n",
       "      <td>Credit card debt</td>\n",
       "      <td>Yes</td>\n",
       "      <td>Good morning my name is XXXX XXXX and I apprec...</td>\n",
       "      <td>Didn't receive enough information to verify debt</td>\n",
       "      <td>Consent provided</td>\n",
       "    </tr>\n",
       "    <tr>\n",
       "      <th>2</th>\n",
       "      <td>complaint-public-v2</td>\n",
       "      <td>complaint</td>\n",
       "      <td>3199379</td>\n",
       "      <td>0.0</td>\n",
       "      <td>None</td>\n",
       "      <td>77069</td>\n",
       "      <td>3199379</td>\n",
       "      <td>Other features, terms, or problems</td>\n",
       "      <td>2019-04-02T12:00:00-05:00</td>\n",
       "      <td>TX</td>\n",
       "      <td>...</td>\n",
       "      <td>Closed with explanation</td>\n",
       "      <td>JPMORGAN CHASE &amp; CO.</td>\n",
       "      <td>Web</td>\n",
       "      <td>2019-04-02T12:00:00-05:00</td>\n",
       "      <td>None</td>\n",
       "      <td>General-purpose credit card or charge card</td>\n",
       "      <td>Yes</td>\n",
       "      <td>I upgraded my XXXX XXXX card in XX/XX/2018 and...</td>\n",
       "      <td>Problem with rewards from credit card</td>\n",
       "      <td>Consent provided</td>\n",
       "    </tr>\n",
       "    <tr>\n",
       "      <th>3</th>\n",
       "      <td>complaint-public-v2</td>\n",
       "      <td>complaint</td>\n",
       "      <td>2673060</td>\n",
       "      <td>0.0</td>\n",
       "      <td>None</td>\n",
       "      <td>48066</td>\n",
       "      <td>2673060</td>\n",
       "      <td>Trouble during payment process</td>\n",
       "      <td>2017-09-13T12:00:00-05:00</td>\n",
       "      <td>MI</td>\n",
       "      <td>...</td>\n",
       "      <td>Closed with explanation</td>\n",
       "      <td>JPMORGAN CHASE &amp; CO.</td>\n",
       "      <td>Web</td>\n",
       "      <td>2017-09-14T12:00:00-05:00</td>\n",
       "      <td>None</td>\n",
       "      <td>Conventional home mortgage</td>\n",
       "      <td>Yes</td>\n",
       "      <td></td>\n",
       "      <td>None</td>\n",
       "      <td>Consent not provided</td>\n",
       "    </tr>\n",
       "    <tr>\n",
       "      <th>4</th>\n",
       "      <td>complaint-public-v2</td>\n",
       "      <td>complaint</td>\n",
       "      <td>3203545</td>\n",
       "      <td>0.0</td>\n",
       "      <td>None</td>\n",
       "      <td>10473</td>\n",
       "      <td>3203545</td>\n",
       "      <td>Fees or interest</td>\n",
       "      <td>2019-04-05T12:00:00-05:00</td>\n",
       "      <td>NY</td>\n",
       "      <td>...</td>\n",
       "      <td>Closed with explanation</td>\n",
       "      <td>JPMORGAN CHASE &amp; CO.</td>\n",
       "      <td>Referral</td>\n",
       "      <td>2019-04-05T12:00:00-05:00</td>\n",
       "      <td>None</td>\n",
       "      <td>General-purpose credit card or charge card</td>\n",
       "      <td>Yes</td>\n",
       "      <td></td>\n",
       "      <td>Charged too much interest</td>\n",
       "      <td>N/A</td>\n",
       "    </tr>\n",
       "  </tbody>\n",
       "</table>\n",
       "<p>5 rows × 22 columns</p>\n",
       "</div>"
      ],
      "text/plain": [
       "                _index      _type      _id  _score   _source.tags  \\\n",
       "0  complaint-public-v2  complaint  3211475     0.0           None   \n",
       "1  complaint-public-v2  complaint  3229299     0.0  Servicemember   \n",
       "2  complaint-public-v2  complaint  3199379     0.0           None   \n",
       "3  complaint-public-v2  complaint  2673060     0.0           None   \n",
       "4  complaint-public-v2  complaint  3203545     0.0           None   \n",
       "\n",
       "  _source.zip_code _source.complaint_id                       _source.issue  \\\n",
       "0            90301              3211475   Attempts to collect debt not owed   \n",
       "1            319XX              3229299     Written notification about debt   \n",
       "2            77069              3199379  Other features, terms, or problems   \n",
       "3            48066              2673060      Trouble during payment process   \n",
       "4            10473              3203545                    Fees or interest   \n",
       "\n",
       "       _source.date_received _source.state  ... _source.company_response  \\\n",
       "0  2019-04-13T12:00:00-05:00            CA  ...  Closed with explanation   \n",
       "1  2019-05-01T12:00:00-05:00            GA  ...  Closed with explanation   \n",
       "2  2019-04-02T12:00:00-05:00            TX  ...  Closed with explanation   \n",
       "3  2017-09-13T12:00:00-05:00            MI  ...  Closed with explanation   \n",
       "4  2019-04-05T12:00:00-05:00            NY  ...  Closed with explanation   \n",
       "\n",
       "        _source.company _source.submitted_via _source.date_sent_to_company  \\\n",
       "0  JPMORGAN CHASE & CO.                   Web    2019-04-13T12:00:00-05:00   \n",
       "1  JPMORGAN CHASE & CO.                   Web    2019-05-01T12:00:00-05:00   \n",
       "2  JPMORGAN CHASE & CO.                   Web    2019-04-02T12:00:00-05:00   \n",
       "3  JPMORGAN CHASE & CO.                   Web    2017-09-14T12:00:00-05:00   \n",
       "4  JPMORGAN CHASE & CO.              Referral    2019-04-05T12:00:00-05:00   \n",
       "\n",
       "  _source.company_public_response                         _source.sub_product  \\\n",
       "0                            None                            Credit card debt   \n",
       "1                            None                            Credit card debt   \n",
       "2                            None  General-purpose credit card or charge card   \n",
       "3                            None                  Conventional home mortgage   \n",
       "4                            None  General-purpose credit card or charge card   \n",
       "\n",
       "  _source.timely                    _source.complaint_what_happened  \\\n",
       "0            Yes                                                      \n",
       "1            Yes  Good morning my name is XXXX XXXX and I apprec...   \n",
       "2            Yes  I upgraded my XXXX XXXX card in XX/XX/2018 and...   \n",
       "3            Yes                                                      \n",
       "4            Yes                                                      \n",
       "\n",
       "                                  _source.sub_issue  \\\n",
       "0                                 Debt is not yours   \n",
       "1  Didn't receive enough information to verify debt   \n",
       "2             Problem with rewards from credit card   \n",
       "3                                              None   \n",
       "4                         Charged too much interest   \n",
       "\n",
       "  _source.consumer_consent_provided  \n",
       "0              Consent not provided  \n",
       "1                  Consent provided  \n",
       "2                  Consent provided  \n",
       "3              Consent not provided  \n",
       "4                               N/A  \n",
       "\n",
       "[5 rows x 22 columns]"
      ]
     },
     "execution_count": 3,
     "metadata": {},
     "output_type": "execute_result"
    }
   ],
   "source": [
    "# Inspect the dataframe to understand the given data.\n",
    "df.head()"
   ]
  },
  {
   "cell_type": "code",
   "execution_count": 4,
   "metadata": {
    "id": "Dwcty-wmJrFw"
   },
   "outputs": [
    {
     "name": "stdout",
     "output_type": "stream",
     "text": [
      "Index(['_index', '_type', '_id', '_score', '_source.tags', '_source.zip_code',\n",
      "       '_source.complaint_id', '_source.issue', '_source.date_received',\n",
      "       '_source.state', '_source.consumer_disputed', '_source.product',\n",
      "       '_source.company_response', '_source.company', '_source.submitted_via',\n",
      "       '_source.date_sent_to_company', '_source.company_public_response',\n",
      "       '_source.sub_product', '_source.timely',\n",
      "       '_source.complaint_what_happened', '_source.sub_issue',\n",
      "       '_source.consumer_consent_provided'],\n",
      "      dtype='object')\n"
     ]
    }
   ],
   "source": [
    "#print the column names\n",
    "print(df.columns)"
   ]
  },
  {
   "cell_type": "code",
   "execution_count": 5,
   "metadata": {
    "id": "FYCtKXD1JrFw"
   },
   "outputs": [
    {
     "name": "stdout",
     "output_type": "stream",
     "text": [
      "Index(['index', 'type', 'id', 'score', 'tags', 'zip_code', 'complaint_id',\n",
      "       'issue', 'date_received', 'state', 'consumer_disputed', 'product',\n",
      "       'company_response', 'company', 'submitted_via', 'date_sent_to_company',\n",
      "       'company_public_response', 'sub_product', 'timely',\n",
      "       'complaint_what_happened', 'sub_issue', 'consumer_consent_provided'],\n",
      "      dtype='object')\n"
     ]
    }
   ],
   "source": [
    "#Assign new column names\n",
    "df.rename(columns=lambda x: x.replace('_source.', ''), inplace=True)\n",
    "df.rename(columns=lambda x: x.strip('_'), inplace=True)\n",
    "print(df.columns)"
   ]
  },
  {
   "cell_type": "code",
   "execution_count": 6,
   "metadata": {
    "id": "grQUPFL5JrFx"
   },
   "outputs": [],
   "source": [
    "#Assign nan in place of blanks in the complaints column\n",
    "df[df['complaint_what_happened']==''] = np.nan"
   ]
  },
  {
   "cell_type": "code",
   "execution_count": 7,
   "metadata": {
    "id": "Jfxd8VSmJrFy"
   },
   "outputs": [
    {
     "name": "stdout",
     "output_type": "stream",
     "text": [
      "57241\n",
      "0\n"
     ]
    }
   ],
   "source": [
    "#Remove all rows where complaints column is nan\n",
    "print(df.complaint_what_happened.isna().sum())\n",
    "df = df[~df.complaint_what_happened.isna()]\n",
    "print(df.complaint_what_happened.isna().sum())"
   ]
  },
  {
   "cell_type": "markdown",
   "metadata": {
    "id": "L944HZpsJrFy"
   },
   "source": [
    "## Prepare the text for topic modeling\n",
    "\n",
    "Once you have removed all the blank complaints, you need to:\n",
    "\n",
    "* Make the text lowercase\n",
    "* Remove text in square brackets\n",
    "* Remove punctuation\n",
    "* Remove words containing numbers\n",
    "\n",
    "\n",
    "Once you have done these cleaning operations you need to perform the following:\n",
    "* Lemmatize the texts\n",
    "* Use POS tags to get relevant words from the texts.\n"
   ]
  },
  {
   "cell_type": "code",
   "execution_count": 8,
   "metadata": {},
   "outputs": [
    {
     "name": "stderr",
     "output_type": "stream",
     "text": [
      "[nltk_data] Downloading package stopwords to\n",
      "[nltk_data]     C:\\Users\\balaji\\AppData\\Roaming\\nltk_data...\n",
      "[nltk_data]   Package stopwords is already up-to-date!\n",
      "[nltk_data] Downloading package wordnet to\n",
      "[nltk_data]     C:\\Users\\balaji\\AppData\\Roaming\\nltk_data...\n",
      "[nltk_data]   Package wordnet is already up-to-date!\n",
      "[nltk_data] Downloading package punkt to\n",
      "[nltk_data]     C:\\Users\\balaji\\AppData\\Roaming\\nltk_data...\n",
      "[nltk_data]   Package punkt is already up-to-date!\n"
     ]
    }
   ],
   "source": [
    "import regex as re\n",
    "#nltk libraries\n",
    "import nltk\n",
    "nltk.download('stopwords')\n",
    "nltk.download('wordnet')\n",
    "nltk.download('punkt')\n",
    "from nltk.corpus import stopwords\n",
    "from nltk.tokenize import word_tokenize\n",
    "from nltk.stem import WordNetLemmatizer\n",
    "wordnet_lemmatizer = WordNetLemmatizer()"
   ]
  },
  {
   "cell_type": "code",
   "execution_count": 9,
   "metadata": {
    "id": "qm7SjjSkJrFz"
   },
   "outputs": [],
   "source": [
    "# Write your function here to clean the text and remove all the unnecessary elements.\n",
    "def clean_text(text):\n",
    "    \n",
    "    #Make the text lowercase\n",
    "    text = text.lower()\n",
    "    #Remove text in square brackets\n",
    "    text = re.sub(\"\\[\\s*\\w*\\s*\\]\", \"\", text)\n",
    "     # Remove punctuation\n",
    "    text = \"\".join([char for char in text if char not in string.punctuation]) \n",
    "    # remove numbers.\n",
    "    text = re.sub(r'\\d+', '', text)\n",
    "    \n",
    "    return text    "
   ]
  },
  {
   "cell_type": "code",
   "execution_count": 10,
   "metadata": {},
   "outputs": [],
   "source": [
    "df.complaint_what_happened = df.complaint_what_happened.apply(lambda complaint: clean_text(complaint))"
   ]
  },
  {
   "cell_type": "code",
   "execution_count": 11,
   "metadata": {
    "id": "zgOu8t8HJrFz"
   },
   "outputs": [],
   "source": [
    "#Write your function to Lemmatize the texts\n",
    "stop_words = set(stopwords.words('english'))\n",
    "def lemmatizer(text):       \n",
    "     # tokenize into words\n",
    "    words = word_tokenize(text)\n",
    "\n",
    "    # remove stop words and lemmatize\n",
    "    words = [wordnet_lemmatizer.lemmatize(word) for word in words if word not in stop_words]\n",
    "\n",
    "    # join words to make sentence\n",
    "    return \" \".join(words)"
   ]
  },
  {
   "cell_type": "code",
   "execution_count": 12,
   "metadata": {},
   "outputs": [],
   "source": [
    "df[\"complaint_lemma\"] = df.complaint_what_happened.apply(lambda complaint : lemmatizer(complaint))"
   ]
  },
  {
   "cell_type": "code",
   "execution_count": 13,
   "metadata": {
    "id": "uXnN7aa_JrF0"
   },
   "outputs": [],
   "source": [
    "#Create a dataframe('df_clean') that will have only the complaints and the lemmatized complaints \n",
    "df_clean = df[[\"complaint_what_happened\", \"complaint_lemma\"]]"
   ]
  },
  {
   "cell_type": "code",
   "execution_count": 14,
   "metadata": {
    "id": "nOiDVvEIJrF0"
   },
   "outputs": [
    {
     "data": {
      "text/html": [
       "<div>\n",
       "<style scoped>\n",
       "    .dataframe tbody tr th:only-of-type {\n",
       "        vertical-align: middle;\n",
       "    }\n",
       "\n",
       "    .dataframe tbody tr th {\n",
       "        vertical-align: top;\n",
       "    }\n",
       "\n",
       "    .dataframe thead th {\n",
       "        text-align: right;\n",
       "    }\n",
       "</style>\n",
       "<table border=\"1\" class=\"dataframe\">\n",
       "  <thead>\n",
       "    <tr style=\"text-align: right;\">\n",
       "      <th></th>\n",
       "      <th>complaint_what_happened</th>\n",
       "      <th>complaint_lemma</th>\n",
       "    </tr>\n",
       "  </thead>\n",
       "  <tbody>\n",
       "    <tr>\n",
       "      <th>1</th>\n",
       "      <td>good morning my name is xxxx xxxx and i apprec...</td>\n",
       "      <td>good morning name xxxx xxxx appreciate could h...</td>\n",
       "    </tr>\n",
       "    <tr>\n",
       "      <th>2</th>\n",
       "      <td>i upgraded my xxxx xxxx card in xxxx and was t...</td>\n",
       "      <td>upgraded xxxx xxxx card xxxx told agent upgrad...</td>\n",
       "    </tr>\n",
       "    <tr>\n",
       "      <th>10</th>\n",
       "      <td>chase card was reported on xxxx however fraudu...</td>\n",
       "      <td>chase card reported xxxx however fraudulent ap...</td>\n",
       "    </tr>\n",
       "    <tr>\n",
       "      <th>11</th>\n",
       "      <td>on xxxx while trying to book a xxxx  xxxx  tic...</td>\n",
       "      <td>xxxx trying book xxxx xxxx ticket came across ...</td>\n",
       "    </tr>\n",
       "    <tr>\n",
       "      <th>14</th>\n",
       "      <td>my grand son give me check for  i deposit it i...</td>\n",
       "      <td>grand son give check deposit chase account fun...</td>\n",
       "    </tr>\n",
       "  </tbody>\n",
       "</table>\n",
       "</div>"
      ],
      "text/plain": [
       "                              complaint_what_happened  \\\n",
       "1   good morning my name is xxxx xxxx and i apprec...   \n",
       "2   i upgraded my xxxx xxxx card in xxxx and was t...   \n",
       "10  chase card was reported on xxxx however fraudu...   \n",
       "11  on xxxx while trying to book a xxxx  xxxx  tic...   \n",
       "14  my grand son give me check for  i deposit it i...   \n",
       "\n",
       "                                      complaint_lemma  \n",
       "1   good morning name xxxx xxxx appreciate could h...  \n",
       "2   upgraded xxxx xxxx card xxxx told agent upgrad...  \n",
       "10  chase card reported xxxx however fraudulent ap...  \n",
       "11  xxxx trying book xxxx xxxx ticket came across ...  \n",
       "14  grand son give check deposit chase account fun...  "
      ]
     },
     "execution_count": 14,
     "metadata": {},
     "output_type": "execute_result"
    }
   ],
   "source": [
    "df_clean.head()"
   ]
  },
  {
   "cell_type": "code",
   "execution_count": 15,
   "metadata": {
    "id": "Kk7fc4DuJrF1"
   },
   "outputs": [],
   "source": [
    "# shorten the pipline loading\n",
    "nlp=spacy.load('en_core_web_sm',disable=['parser','ner'])\n",
    "\n",
    "#Write your function to extract the POS tags \n",
    "def extract_pos(text):\n",
    "    doc = nlp(text)\n",
    "    pos_list = []\n",
    "    for tok in doc:\n",
    "        if(tok.tag_ =='NN'):\n",
    "            pos_list.append(tok.text.lower())\n",
    "        \n",
    "    return \" \".join(pos_list)"
   ]
  },
  {
   "cell_type": "code",
   "execution_count": 16,
   "metadata": {},
   "outputs": [
    {
     "name": "stderr",
     "output_type": "stream",
     "text": [
      "C:\\Users\\balaji\\Anaconda3\\lib\\site-packages\\ipykernel_launcher.py:1: SettingWithCopyWarning:\n",
      "\n",
      "\n",
      "A value is trying to be set on a copy of a slice from a DataFrame.\n",
      "Try using .loc[row_indexer,col_indexer] = value instead\n",
      "\n",
      "See the caveats in the documentation: https://pandas.pydata.org/pandas-docs/stable/user_guide/indexing.html#returning-a-view-versus-a-copy\n",
      "\n"
     ]
    }
   ],
   "source": [
    "df_clean[\"complaint_pos_removed\"] =  df_clean.complaint_what_happened.apply(lambda complaint: extract_pos(complaint))"
   ]
  },
  {
   "cell_type": "code",
   "execution_count": 17,
   "metadata": {
    "id": "AjxfchvFJrF2"
   },
   "outputs": [
    {
     "data": {
      "text/html": [
       "<div>\n",
       "<style scoped>\n",
       "    .dataframe tbody tr th:only-of-type {\n",
       "        vertical-align: middle;\n",
       "    }\n",
       "\n",
       "    .dataframe tbody tr th {\n",
       "        vertical-align: top;\n",
       "    }\n",
       "\n",
       "    .dataframe thead th {\n",
       "        text-align: right;\n",
       "    }\n",
       "</style>\n",
       "<table border=\"1\" class=\"dataframe\">\n",
       "  <thead>\n",
       "    <tr style=\"text-align: right;\">\n",
       "      <th></th>\n",
       "      <th>complaint_what_happened</th>\n",
       "      <th>complaint_lemma</th>\n",
       "      <th>complaint_pos_removed</th>\n",
       "    </tr>\n",
       "  </thead>\n",
       "  <tbody>\n",
       "    <tr>\n",
       "      <th>1</th>\n",
       "      <td>good morning my name is xxxx xxxx and i apprec...</td>\n",
       "      <td>good morning name xxxx xxxx appreciate could h...</td>\n",
       "      <td>morning name stop debt verification statement ...</td>\n",
       "    </tr>\n",
       "    <tr>\n",
       "      <th>2</th>\n",
       "      <td>i upgraded my xxxx xxxx card in xxxx and was t...</td>\n",
       "      <td>upgraded xxxx xxxx card xxxx told agent upgrad...</td>\n",
       "      <td>xxxx card agent anniversary date agent informa...</td>\n",
       "    </tr>\n",
       "    <tr>\n",
       "      <th>10</th>\n",
       "      <td>chase card was reported on xxxx however fraudu...</td>\n",
       "      <td>chase card reported xxxx however fraudulent ap...</td>\n",
       "      <td>application identity consent credit identity a...</td>\n",
       "    </tr>\n",
       "    <tr>\n",
       "      <th>11</th>\n",
       "      <td>on xxxx while trying to book a xxxx  xxxx  tic...</td>\n",
       "      <td>xxxx trying book xxxx xxxx ticket came across ...</td>\n",
       "      <td>xxxx xxxx xxxx ticket offer ticket card inform...</td>\n",
       "    </tr>\n",
       "    <tr>\n",
       "      <th>14</th>\n",
       "      <td>my grand son give me check for  i deposit it i...</td>\n",
       "      <td>grand son give check deposit chase account fun...</td>\n",
       "      <td>son chase account fund chase bank account mone...</td>\n",
       "    </tr>\n",
       "    <tr>\n",
       "      <th>...</th>\n",
       "      <td>...</td>\n",
       "      <td>...</td>\n",
       "      <td>...</td>\n",
       "    </tr>\n",
       "    <tr>\n",
       "      <th>78303</th>\n",
       "      <td>after being a chase card customer for well ove...</td>\n",
       "      <td>chase card customer well decade offered multip...</td>\n",
       "      <td>chase card customer decade credit chase bonus ...</td>\n",
       "    </tr>\n",
       "    <tr>\n",
       "      <th>78309</th>\n",
       "      <td>on wednesday xxxxxxxx i called chas my xxxx xx...</td>\n",
       "      <td>wednesday xxxxxxxx called chas xxxx xxxx visa ...</td>\n",
       "      <td>xxxx xxxx visa credit card provider claim purc...</td>\n",
       "    </tr>\n",
       "    <tr>\n",
       "      <th>78310</th>\n",
       "      <td>i am not familiar with xxxx pay and did not un...</td>\n",
       "      <td>familiar xxxx pay understand great risk provid...</td>\n",
       "      <td>pay risk chase bank app chase banking merchant...</td>\n",
       "    </tr>\n",
       "    <tr>\n",
       "      <th>78311</th>\n",
       "      <td>i have had flawless credit for  yrs ive had ch...</td>\n",
       "      <td>flawless credit yr ive chase credit card chase...</td>\n",
       "      <td>credit chase credit chase freedom balance life...</td>\n",
       "    </tr>\n",
       "    <tr>\n",
       "      <th>78312</th>\n",
       "      <td>roughly  years ago i closed out my accounts wi...</td>\n",
       "      <td>roughly year ago closed account jp morgan chas...</td>\n",
       "      <td>order line credit account payment payment cred...</td>\n",
       "    </tr>\n",
       "  </tbody>\n",
       "</table>\n",
       "<p>21072 rows × 3 columns</p>\n",
       "</div>"
      ],
      "text/plain": [
       "                                 complaint_what_happened  \\\n",
       "1      good morning my name is xxxx xxxx and i apprec...   \n",
       "2      i upgraded my xxxx xxxx card in xxxx and was t...   \n",
       "10     chase card was reported on xxxx however fraudu...   \n",
       "11     on xxxx while trying to book a xxxx  xxxx  tic...   \n",
       "14     my grand son give me check for  i deposit it i...   \n",
       "...                                                  ...   \n",
       "78303  after being a chase card customer for well ove...   \n",
       "78309  on wednesday xxxxxxxx i called chas my xxxx xx...   \n",
       "78310  i am not familiar with xxxx pay and did not un...   \n",
       "78311  i have had flawless credit for  yrs ive had ch...   \n",
       "78312  roughly  years ago i closed out my accounts wi...   \n",
       "\n",
       "                                         complaint_lemma  \\\n",
       "1      good morning name xxxx xxxx appreciate could h...   \n",
       "2      upgraded xxxx xxxx card xxxx told agent upgrad...   \n",
       "10     chase card reported xxxx however fraudulent ap...   \n",
       "11     xxxx trying book xxxx xxxx ticket came across ...   \n",
       "14     grand son give check deposit chase account fun...   \n",
       "...                                                  ...   \n",
       "78303  chase card customer well decade offered multip...   \n",
       "78309  wednesday xxxxxxxx called chas xxxx xxxx visa ...   \n",
       "78310  familiar xxxx pay understand great risk provid...   \n",
       "78311  flawless credit yr ive chase credit card chase...   \n",
       "78312  roughly year ago closed account jp morgan chas...   \n",
       "\n",
       "                                   complaint_pos_removed  \n",
       "1      morning name stop debt verification statement ...  \n",
       "2      xxxx card agent anniversary date agent informa...  \n",
       "10     application identity consent credit identity a...  \n",
       "11     xxxx xxxx xxxx ticket offer ticket card inform...  \n",
       "14     son chase account fund chase bank account mone...  \n",
       "...                                                  ...  \n",
       "78303  chase card customer decade credit chase bonus ...  \n",
       "78309  xxxx xxxx visa credit card provider claim purc...  \n",
       "78310  pay risk chase bank app chase banking merchant...  \n",
       "78311  credit chase credit chase freedom balance life...  \n",
       "78312  order line credit account payment payment cred...  \n",
       "\n",
       "[21072 rows x 3 columns]"
      ]
     },
     "execution_count": 17,
     "metadata": {},
     "output_type": "execute_result"
    }
   ],
   "source": [
    "#The clean dataframe should now contain the raw complaint, lemmatized complaint and the complaint after removing POS tags.\n",
    "df_clean"
   ]
  },
  {
   "cell_type": "markdown",
   "metadata": {
    "id": "_7Un1AElJrF2"
   },
   "source": [
    "## Exploratory data analysis to get familiar with the data.\n",
    "\n",
    "Write the code in this task to perform the following:\n",
    "\n",
    "*   Visualise the data according to the 'Complaint' character length\n",
    "*   Using a word cloud find the top 40 words by frequency among all the articles after processing the text\n",
    "*   Find the top unigrams,bigrams and trigrams by frequency among all the complaints after processing the text. ‘\n",
    "\n",
    "\n"
   ]
  },
  {
   "cell_type": "code",
   "execution_count": 18,
   "metadata": {
    "id": "q-zaqJF6JrF2"
   },
   "outputs": [
    {
     "data": {
      "image/png": "[encoded data removed]",
      "text/plain": [
       "<Figure size 720x432 with 1 Axes>"
      ]
     },
     "metadata": {
      "needs_background": "light"
     },
     "output_type": "display_data"
    }
   ],
   "source": [
    "# Write your code here to visualise the data according to the 'Complaint' character length\n",
    "plt.figure(figsize=(10,6))\n",
    "complaints_lens = [len(d) for d in df_clean.complaint_pos_removed]\n",
    "plt.hist(complaints_lens, bins = 50)\n",
    "plt.show()"
   ]
  },
  {
   "cell_type": "markdown",
   "metadata": {
    "id": "T9jD_6SeJrF3"
   },
   "source": [
    "#### Find the top 40 words by frequency among all the articles after processing the text."
   ]
  },
  {
   "cell_type": "code",
   "execution_count": 19,
   "metadata": {
    "id": "QcfdvtfZJrF3"
   },
   "outputs": [
    {
     "name": "stdout",
     "output_type": "stream",
     "text": [
      "<wordcloud.wordcloud.WordCloud object at 0x00000193002426C8>\n"
     ]
    },
    {
     "data": {
      "image/png": "[encoded data removed]",
      "text/plain": [
       "<Figure size 432x288 with 1 Axes>"
      ]
     },
     "metadata": {
      "needs_background": "light"
     },
     "output_type": "display_data"
    }
   ],
   "source": [
    "#Using a word cloud find the top 40 words by frequency among all the articles after processing the text\n",
    "from wordcloud import WordCloud\n",
    "stoplist = set(stopwords.words(\"english\"))\n",
    "\n",
    "wordcloud = WordCloud(stopwords=stoplist,max_words=40).generate(str(df_clean.complaint_pos_removed))\n",
    "\n",
    "print(wordcloud)\n",
    "fig = plt.figure(1)\n",
    "plt.imshow(wordcloud)\n",
    "plt.axis('off')\n",
    "plt.show();"
   ]
  },
  {
   "cell_type": "code",
   "execution_count": 20,
   "metadata": {
    "id": "OkSmc3UaJrF4"
   },
   "outputs": [
    {
     "name": "stderr",
     "output_type": "stream",
     "text": [
      "C:\\Users\\balaji\\Anaconda3\\lib\\site-packages\\ipykernel_launcher.py:2: SettingWithCopyWarning:\n",
      "\n",
      "\n",
      "A value is trying to be set on a copy of a slice from a DataFrame.\n",
      "Try using .loc[row_indexer,col_indexer] = value instead\n",
      "\n",
      "See the caveats in the documentation: https://pandas.pydata.org/pandas-docs/stable/user_guide/indexing.html#returning-a-view-versus-a-copy\n",
      "\n"
     ]
    }
   ],
   "source": [
    "#Removing -PRON- from the text corpus\n",
    "df_clean['complaint_clean'] = df_clean['complaint_pos_removed'].str.replace('-PRON-', '')"
   ]
  },
  {
   "cell_type": "code",
   "execution_count": 21,
   "metadata": {},
   "outputs": [
    {
     "data": {
      "text/html": [
       "<div>\n",
       "<style scoped>\n",
       "    .dataframe tbody tr th:only-of-type {\n",
       "        vertical-align: middle;\n",
       "    }\n",
       "\n",
       "    .dataframe tbody tr th {\n",
       "        vertical-align: top;\n",
       "    }\n",
       "\n",
       "    .dataframe thead th {\n",
       "        text-align: right;\n",
       "    }\n",
       "</style>\n",
       "<table border=\"1\" class=\"dataframe\">\n",
       "  <thead>\n",
       "    <tr style=\"text-align: right;\">\n",
       "      <th></th>\n",
       "      <th>complaint_what_happened</th>\n",
       "      <th>complaint_lemma</th>\n",
       "      <th>complaint_pos_removed</th>\n",
       "      <th>complaint_clean</th>\n",
       "    </tr>\n",
       "  </thead>\n",
       "  <tbody>\n",
       "    <tr>\n",
       "      <th>1</th>\n",
       "      <td>good morning my name is xxxx xxxx and i apprec...</td>\n",
       "      <td>good morning name xxxx xxxx appreciate could h...</td>\n",
       "      <td>morning name stop debt verification statement ...</td>\n",
       "      <td>morning name stop debt verification statement ...</td>\n",
       "    </tr>\n",
       "    <tr>\n",
       "      <th>2</th>\n",
       "      <td>i upgraded my xxxx xxxx card in xxxx and was t...</td>\n",
       "      <td>upgraded xxxx xxxx card xxxx told agent upgrad...</td>\n",
       "      <td>xxxx card agent anniversary date agent informa...</td>\n",
       "      <td>xxxx card agent anniversary date agent informa...</td>\n",
       "    </tr>\n",
       "    <tr>\n",
       "      <th>10</th>\n",
       "      <td>chase card was reported on xxxx however fraudu...</td>\n",
       "      <td>chase card reported xxxx however fraudulent ap...</td>\n",
       "      <td>application identity consent credit identity a...</td>\n",
       "      <td>application identity consent credit identity a...</td>\n",
       "    </tr>\n",
       "    <tr>\n",
       "      <th>11</th>\n",
       "      <td>on xxxx while trying to book a xxxx  xxxx  tic...</td>\n",
       "      <td>xxxx trying book xxxx xxxx ticket came across ...</td>\n",
       "      <td>xxxx xxxx xxxx ticket offer ticket card inform...</td>\n",
       "      <td>xxxx xxxx xxxx ticket offer ticket card inform...</td>\n",
       "    </tr>\n",
       "    <tr>\n",
       "      <th>14</th>\n",
       "      <td>my grand son give me check for  i deposit it i...</td>\n",
       "      <td>grand son give check deposit chase account fun...</td>\n",
       "      <td>son chase account fund chase bank account mone...</td>\n",
       "      <td>son chase account fund chase bank account mone...</td>\n",
       "    </tr>\n",
       "    <tr>\n",
       "      <th>...</th>\n",
       "      <td>...</td>\n",
       "      <td>...</td>\n",
       "      <td>...</td>\n",
       "      <td>...</td>\n",
       "    </tr>\n",
       "    <tr>\n",
       "      <th>78303</th>\n",
       "      <td>after being a chase card customer for well ove...</td>\n",
       "      <td>chase card customer well decade offered multip...</td>\n",
       "      <td>chase card customer decade credit chase bonus ...</td>\n",
       "      <td>chase card customer decade credit chase bonus ...</td>\n",
       "    </tr>\n",
       "    <tr>\n",
       "      <th>78309</th>\n",
       "      <td>on wednesday xxxxxxxx i called chas my xxxx xx...</td>\n",
       "      <td>wednesday xxxxxxxx called chas xxxx xxxx visa ...</td>\n",
       "      <td>xxxx xxxx visa credit card provider claim purc...</td>\n",
       "      <td>xxxx xxxx visa credit card provider claim purc...</td>\n",
       "    </tr>\n",
       "    <tr>\n",
       "      <th>78310</th>\n",
       "      <td>i am not familiar with xxxx pay and did not un...</td>\n",
       "      <td>familiar xxxx pay understand great risk provid...</td>\n",
       "      <td>pay risk chase bank app chase banking merchant...</td>\n",
       "      <td>pay risk chase bank app chase banking merchant...</td>\n",
       "    </tr>\n",
       "    <tr>\n",
       "      <th>78311</th>\n",
       "      <td>i have had flawless credit for  yrs ive had ch...</td>\n",
       "      <td>flawless credit yr ive chase credit card chase...</td>\n",
       "      <td>credit chase credit chase freedom balance life...</td>\n",
       "      <td>credit chase credit chase freedom balance life...</td>\n",
       "    </tr>\n",
       "    <tr>\n",
       "      <th>78312</th>\n",
       "      <td>roughly  years ago i closed out my accounts wi...</td>\n",
       "      <td>roughly year ago closed account jp morgan chas...</td>\n",
       "      <td>order line credit account payment payment cred...</td>\n",
       "      <td>order line credit account payment payment cred...</td>\n",
       "    </tr>\n",
       "  </tbody>\n",
       "</table>\n",
       "<p>21072 rows × 4 columns</p>\n",
       "</div>"
      ],
      "text/plain": [
       "                                 complaint_what_happened  \\\n",
       "1      good morning my name is xxxx xxxx and i apprec...   \n",
       "2      i upgraded my xxxx xxxx card in xxxx and was t...   \n",
       "10     chase card was reported on xxxx however fraudu...   \n",
       "11     on xxxx while trying to book a xxxx  xxxx  tic...   \n",
       "14     my grand son give me check for  i deposit it i...   \n",
       "...                                                  ...   \n",
       "78303  after being a chase card customer for well ove...   \n",
       "78309  on wednesday xxxxxxxx i called chas my xxxx xx...   \n",
       "78310  i am not familiar with xxxx pay and did not un...   \n",
       "78311  i have had flawless credit for  yrs ive had ch...   \n",
       "78312  roughly  years ago i closed out my accounts wi...   \n",
       "\n",
       "                                         complaint_lemma  \\\n",
       "1      good morning name xxxx xxxx appreciate could h...   \n",
       "2      upgraded xxxx xxxx card xxxx told agent upgrad...   \n",
       "10     chase card reported xxxx however fraudulent ap...   \n",
       "11     xxxx trying book xxxx xxxx ticket came across ...   \n",
       "14     grand son give check deposit chase account fun...   \n",
       "...                                                  ...   \n",
       "78303  chase card customer well decade offered multip...   \n",
       "78309  wednesday xxxxxxxx called chas xxxx xxxx visa ...   \n",
       "78310  familiar xxxx pay understand great risk provid...   \n",
       "78311  flawless credit yr ive chase credit card chase...   \n",
       "78312  roughly year ago closed account jp morgan chas...   \n",
       "\n",
       "                                   complaint_pos_removed  \\\n",
       "1      morning name stop debt verification statement ...   \n",
       "2      xxxx card agent anniversary date agent informa...   \n",
       "10     application identity consent credit identity a...   \n",
       "11     xxxx xxxx xxxx ticket offer ticket card inform...   \n",
       "14     son chase account fund chase bank account mone...   \n",
       "...                                                  ...   \n",
       "78303  chase card customer decade credit chase bonus ...   \n",
       "78309  xxxx xxxx visa credit card provider claim purc...   \n",
       "78310  pay risk chase bank app chase banking merchant...   \n",
       "78311  credit chase credit chase freedom balance life...   \n",
       "78312  order line credit account payment payment cred...   \n",
       "\n",
       "                                         complaint_clean  \n",
       "1      morning name stop debt verification statement ...  \n",
       "2      xxxx card agent anniversary date agent informa...  \n",
       "10     application identity consent credit identity a...  \n",
       "11     xxxx xxxx xxxx ticket offer ticket card inform...  \n",
       "14     son chase account fund chase bank account mone...  \n",
       "...                                                  ...  \n",
       "78303  chase card customer decade credit chase bonus ...  \n",
       "78309  xxxx xxxx visa credit card provider claim purc...  \n",
       "78310  pay risk chase bank app chase banking merchant...  \n",
       "78311  credit chase credit chase freedom balance life...  \n",
       "78312  order line credit account payment payment cred...  \n",
       "\n",
       "[21072 rows x 4 columns]"
      ]
     },
     "execution_count": 21,
     "metadata": {},
     "output_type": "execute_result"
    }
   ],
   "source": [
    "df_clean"
   ]
  },
  {
   "cell_type": "markdown",
   "metadata": {
    "id": "5DfCSbbmJrF4"
   },
   "source": [
    "#### Find the top unigrams,bigrams and trigrams by frequency among all the complaints after processing the text."
   ]
  },
  {
   "cell_type": "code",
   "execution_count": 22,
   "metadata": {},
   "outputs": [],
   "source": [
    "def get_top_n_ngram( corpus, n_gram_range ,n=None):\n",
    "    vec = CountVectorizer(ngram_range=(n_gram_range, n_gram_range), stop_words='english').fit(corpus)\n",
    "    bag_of_words = vec.transform(corpus)\n",
    "    #print(bag_of_words)\n",
    "    sum_words = bag_of_words.sum(axis=0) \n",
    "    print(\"--1\",sum_words)\n",
    "    for word, idx in vec.vocabulary_.items():\n",
    "        #print(word)\n",
    "        #print(idx)\n",
    "        break\n",
    "    words_freq = [(word, sum_words[0, idx]) for word, idx in vec.vocabulary_.items()]\n",
    "    #print(\"-31\",words_freq)\n",
    "    words_freq =sorted(words_freq, key = lambda x: x[1], reverse=True)\n",
    "    return words_freq[:n]"
   ]
  },
  {
   "cell_type": "code",
   "execution_count": 23,
   "metadata": {},
   "outputs": [],
   "source": [
    "def plot_common_words(n_gram=1,n_top=30,n_gram_x='unigram'):\n",
    "    common_words = get_top_n_ngram(df_clean.complaint_clean, n_gram, n_top)\n",
    "    df3 = pd.DataFrame(common_words, columns = [n_gram_x , 'count'])\n",
    "    plt.figure(figsize=[35,25])\n",
    "    fig = sns.barplot(x=df3[n_gram_x], y=df3['count'])\n",
    "    return common_words\n",
    "\n",
    "def display_common_words(data):\n",
    "    return pd.DataFrame(data).sort_values(by=1,ascending=False )[:10]"
   ]
  },
  {
   "cell_type": "code",
   "execution_count": 24,
   "metadata": {
    "id": "5mbk5DS5JrF4"
   },
   "outputs": [
    {
     "name": "stdout",
     "output_type": "stream",
     "text": [
      "--1 [[ 6  1  1 ... 25  1  1]]\n"
     ]
    },
    {
     "data": {
      "image/png": "[encoded data removed]",
      "text/plain": [
       "<Figure size 2520x1800 with 1 Axes>"
      ]
     },
     "metadata": {
      "needs_background": "light"
     },
     "output_type": "display_data"
    }
   ],
   "source": [
    "#Write your code here to find the top 30 unigram frequency among the complaints in the cleaned datafram(df_clean). \n",
    "common_words = plot_common_words(1,30, 'unigram')"
   ]
  },
  {
   "cell_type": "code",
   "execution_count": 25,
   "metadata": {
    "id": "YX7fedm1JrF8"
   },
   "outputs": [
    {
     "data": {
      "text/html": [
       "<div>\n",
       "<style scoped>\n",
       "    .dataframe tbody tr th:only-of-type {\n",
       "        vertical-align: middle;\n",
       "    }\n",
       "\n",
       "    .dataframe tbody tr th {\n",
       "        vertical-align: top;\n",
       "    }\n",
       "\n",
       "    .dataframe thead th {\n",
       "        text-align: right;\n",
       "    }\n",
       "</style>\n",
       "<table border=\"1\" class=\"dataframe\">\n",
       "  <thead>\n",
       "    <tr style=\"text-align: right;\">\n",
       "      <th></th>\n",
       "      <th>0</th>\n",
       "      <th>1</th>\n",
       "    </tr>\n",
       "  </thead>\n",
       "  <tbody>\n",
       "    <tr>\n",
       "      <th>0</th>\n",
       "      <td>xxxx</td>\n",
       "      <td>148166</td>\n",
       "    </tr>\n",
       "    <tr>\n",
       "      <th>1</th>\n",
       "      <td>chase</td>\n",
       "      <td>55149</td>\n",
       "    </tr>\n",
       "    <tr>\n",
       "      <th>2</th>\n",
       "      <td>account</td>\n",
       "      <td>41146</td>\n",
       "    </tr>\n",
       "    <tr>\n",
       "      <th>3</th>\n",
       "      <td>credit</td>\n",
       "      <td>32157</td>\n",
       "    </tr>\n",
       "    <tr>\n",
       "      <th>4</th>\n",
       "      <td>card</td>\n",
       "      <td>26322</td>\n",
       "    </tr>\n",
       "    <tr>\n",
       "      <th>5</th>\n",
       "      <td>bank</td>\n",
       "      <td>18183</td>\n",
       "    </tr>\n",
       "    <tr>\n",
       "      <th>6</th>\n",
       "      <td>xxxxxxxx</td>\n",
       "      <td>16125</td>\n",
       "    </tr>\n",
       "    <tr>\n",
       "      <th>7</th>\n",
       "      <td>payment</td>\n",
       "      <td>13969</td>\n",
       "    </tr>\n",
       "    <tr>\n",
       "      <th>8</th>\n",
       "      <td>time</td>\n",
       "      <td>11960</td>\n",
       "    </tr>\n",
       "    <tr>\n",
       "      <th>9</th>\n",
       "      <td>money</td>\n",
       "      <td>11936</td>\n",
       "    </tr>\n",
       "  </tbody>\n",
       "</table>\n",
       "</div>"
      ],
      "text/plain": [
       "          0       1\n",
       "0      xxxx  148166\n",
       "1     chase   55149\n",
       "2   account   41146\n",
       "3    credit   32157\n",
       "4      card   26322\n",
       "5      bank   18183\n",
       "6  xxxxxxxx   16125\n",
       "7   payment   13969\n",
       "8      time   11960\n",
       "9     money   11936"
      ]
     },
     "execution_count": 25,
     "metadata": {},
     "output_type": "execute_result"
    }
   ],
   "source": [
    "#Print the top 10 words in the unigram frequency\n",
    "display_common_words(common_words)"
   ]
  },
  {
   "cell_type": "code",
   "execution_count": 26,
   "metadata": {
    "id": "aV7kD7w8JrF8"
   },
   "outputs": [
    {
     "name": "stdout",
     "output_type": "stream",
     "text": [
      "--1 [[1 2 1 ... 1 1 1]]\n"
     ]
    },
    {
     "data": {
      "image/png": "[encoded data removed]",
      "text/plain": [
       "<Figure size 2520x1800 with 1 Axes>"
      ]
     },
     "metadata": {
      "needs_background": "light"
     },
     "output_type": "display_data"
    }
   ],
   "source": [
    "#Write your code here to find the top 30 bigram frequency among the complaints in the cleaned datafram(df_clean). \n",
    "common_words = plot_common_words(2,30, 'bigram')"
   ]
  },
  {
   "cell_type": "code",
   "execution_count": 27,
   "metadata": {
    "id": "NPnMNIpyJrF9"
   },
   "outputs": [
    {
     "data": {
      "text/html": [
       "<div>\n",
       "<style scoped>\n",
       "    .dataframe tbody tr th:only-of-type {\n",
       "        vertical-align: middle;\n",
       "    }\n",
       "\n",
       "    .dataframe tbody tr th {\n",
       "        vertical-align: top;\n",
       "    }\n",
       "\n",
       "    .dataframe thead th {\n",
       "        text-align: right;\n",
       "    }\n",
       "</style>\n",
       "<table border=\"1\" class=\"dataframe\">\n",
       "  <thead>\n",
       "    <tr style=\"text-align: right;\">\n",
       "      <th></th>\n",
       "      <th>0</th>\n",
       "      <th>1</th>\n",
       "    </tr>\n",
       "  </thead>\n",
       "  <tbody>\n",
       "    <tr>\n",
       "      <th>0</th>\n",
       "      <td>xxxx xxxx</td>\n",
       "      <td>70942</td>\n",
       "    </tr>\n",
       "    <tr>\n",
       "      <th>1</th>\n",
       "      <td>credit card</td>\n",
       "      <td>10921</td>\n",
       "    </tr>\n",
       "    <tr>\n",
       "      <th>2</th>\n",
       "      <td>xxxx chase</td>\n",
       "      <td>5421</td>\n",
       "    </tr>\n",
       "    <tr>\n",
       "      <th>3</th>\n",
       "      <td>account xxxx</td>\n",
       "      <td>3853</td>\n",
       "    </tr>\n",
       "    <tr>\n",
       "      <th>4</th>\n",
       "      <td>chase xxxx</td>\n",
       "      <td>3593</td>\n",
       "    </tr>\n",
       "    <tr>\n",
       "      <th>5</th>\n",
       "      <td>chase credit</td>\n",
       "      <td>3353</td>\n",
       "    </tr>\n",
       "    <tr>\n",
       "      <th>6</th>\n",
       "      <td>chase account</td>\n",
       "      <td>3314</td>\n",
       "    </tr>\n",
       "    <tr>\n",
       "      <th>7</th>\n",
       "      <td>xxxx account</td>\n",
       "      <td>3263</td>\n",
       "    </tr>\n",
       "    <tr>\n",
       "      <th>8</th>\n",
       "      <td>credit report</td>\n",
       "      <td>3258</td>\n",
       "    </tr>\n",
       "    <tr>\n",
       "      <th>9</th>\n",
       "      <td>account chase</td>\n",
       "      <td>3080</td>\n",
       "    </tr>\n",
       "  </tbody>\n",
       "</table>\n",
       "</div>"
      ],
      "text/plain": [
       "               0      1\n",
       "0      xxxx xxxx  70942\n",
       "1    credit card  10921\n",
       "2     xxxx chase   5421\n",
       "3   account xxxx   3853\n",
       "4     chase xxxx   3593\n",
       "5   chase credit   3353\n",
       "6  chase account   3314\n",
       "7   xxxx account   3263\n",
       "8  credit report   3258\n",
       "9  account chase   3080"
      ]
     },
     "execution_count": 27,
     "metadata": {},
     "output_type": "execute_result"
    }
   ],
   "source": [
    "#Print the top 10 words in the bigram frequency\n",
    "display_common_words(common_words)"
   ]
  },
  {
   "cell_type": "code",
   "execution_count": 28,
   "metadata": {
    "id": "Xkh7vtbtJrF-"
   },
   "outputs": [
    {
     "name": "stdout",
     "output_type": "stream",
     "text": [
      "--1 [[1 2 1 ... 1 1 1]]\n"
     ]
    },
    {
     "data": {
      "image/png": "[encoded data removed]",
      "text/plain": [
       "<Figure size 2520x1800 with 1 Axes>"
      ]
     },
     "metadata": {
      "needs_background": "light"
     },
     "output_type": "display_data"
    }
   ],
   "source": [
    "#Write your code here to find the top 30 trigram frequency among the complaints in the cleaned datafram(df_clean). \n",
    "common_words = plot_common_words(3,30, 'trigram')"
   ]
  },
  {
   "cell_type": "code",
   "execution_count": 29,
   "metadata": {
    "id": "REcVxNfvJrF-"
   },
   "outputs": [
    {
     "data": {
      "text/html": [
       "<div>\n",
       "<style scoped>\n",
       "    .dataframe tbody tr th:only-of-type {\n",
       "        vertical-align: middle;\n",
       "    }\n",
       "\n",
       "    .dataframe tbody tr th {\n",
       "        vertical-align: top;\n",
       "    }\n",
       "\n",
       "    .dataframe thead th {\n",
       "        text-align: right;\n",
       "    }\n",
       "</style>\n",
       "<table border=\"1\" class=\"dataframe\">\n",
       "  <thead>\n",
       "    <tr style=\"text-align: right;\">\n",
       "      <th></th>\n",
       "      <th>0</th>\n",
       "      <th>1</th>\n",
       "    </tr>\n",
       "  </thead>\n",
       "  <tbody>\n",
       "    <tr>\n",
       "      <th>0</th>\n",
       "      <td>xxxx xxxx xxxx</td>\n",
       "      <td>38796</td>\n",
       "    </tr>\n",
       "    <tr>\n",
       "      <th>1</th>\n",
       "      <td>xxxx xxxx chase</td>\n",
       "      <td>2195</td>\n",
       "    </tr>\n",
       "    <tr>\n",
       "      <th>2</th>\n",
       "      <td>chase credit card</td>\n",
       "      <td>1829</td>\n",
       "    </tr>\n",
       "    <tr>\n",
       "      <th>3</th>\n",
       "      <td>account xxxx xxxx</td>\n",
       "      <td>1468</td>\n",
       "    </tr>\n",
       "    <tr>\n",
       "      <th>4</th>\n",
       "      <td>chase xxxx xxxx</td>\n",
       "      <td>1374</td>\n",
       "    </tr>\n",
       "    <tr>\n",
       "      <th>5</th>\n",
       "      <td>xxxx xxxx account</td>\n",
       "      <td>1266</td>\n",
       "    </tr>\n",
       "    <tr>\n",
       "      <th>6</th>\n",
       "      <td>xxxxxxxx xxxx xxxx</td>\n",
       "      <td>1205</td>\n",
       "    </tr>\n",
       "    <tr>\n",
       "      <th>7</th>\n",
       "      <td>xxxx credit card</td>\n",
       "      <td>1031</td>\n",
       "    </tr>\n",
       "    <tr>\n",
       "      <th>8</th>\n",
       "      <td>xxxx xxxx credit</td>\n",
       "      <td>953</td>\n",
       "    </tr>\n",
       "    <tr>\n",
       "      <th>9</th>\n",
       "      <td>card xxxx xxxx</td>\n",
       "      <td>906</td>\n",
       "    </tr>\n",
       "  </tbody>\n",
       "</table>\n",
       "</div>"
      ],
      "text/plain": [
       "                    0      1\n",
       "0      xxxx xxxx xxxx  38796\n",
       "1     xxxx xxxx chase   2195\n",
       "2   chase credit card   1829\n",
       "3   account xxxx xxxx   1468\n",
       "4     chase xxxx xxxx   1374\n",
       "5   xxxx xxxx account   1266\n",
       "6  xxxxxxxx xxxx xxxx   1205\n",
       "7    xxxx credit card   1031\n",
       "8    xxxx xxxx credit    953\n",
       "9      card xxxx xxxx    906"
      ]
     },
     "execution_count": 29,
     "metadata": {},
     "output_type": "execute_result"
    }
   ],
   "source": [
    "#Print the top 10 words in the trigram frequency\n",
    "display_common_words(common_words)"
   ]
  },
  {
   "cell_type": "markdown",
   "metadata": {
    "id": "yUXzFji0JrF_"
   },
   "source": [
    "## The personal details of customer has been masked in the dataset with xxxx. Let's remove the masked text as this will be of no use for our analysis"
   ]
  },
  {
   "cell_type": "code",
   "execution_count": 30,
   "metadata": {
    "id": "wKda-a_IJrF_"
   },
   "outputs": [
    {
     "name": "stderr",
     "output_type": "stream",
     "text": [
      "C:\\Users\\balaji\\Anaconda3\\lib\\site-packages\\ipykernel_launcher.py:1: SettingWithCopyWarning:\n",
      "\n",
      "\n",
      "A value is trying to be set on a copy of a slice from a DataFrame.\n",
      "Try using .loc[row_indexer,col_indexer] = value instead\n",
      "\n",
      "See the caveats in the documentation: https://pandas.pydata.org/pandas-docs/stable/user_guide/indexing.html#returning-a-view-versus-a-copy\n",
      "\n"
     ]
    }
   ],
   "source": [
    "df_clean['complaint_clean'] = df_clean['complaint_clean'].str.replace('xxxx','')"
   ]
  },
  {
   "cell_type": "code",
   "execution_count": 31,
   "metadata": {
    "id": "9UIFk8fQJrF_"
   },
   "outputs": [
    {
     "data": {
      "text/html": [
       "<div>\n",
       "<style scoped>\n",
       "    .dataframe tbody tr th:only-of-type {\n",
       "        vertical-align: middle;\n",
       "    }\n",
       "\n",
       "    .dataframe tbody tr th {\n",
       "        vertical-align: top;\n",
       "    }\n",
       "\n",
       "    .dataframe thead th {\n",
       "        text-align: right;\n",
       "    }\n",
       "</style>\n",
       "<table border=\"1\" class=\"dataframe\">\n",
       "  <thead>\n",
       "    <tr style=\"text-align: right;\">\n",
       "      <th></th>\n",
       "      <th>complaint_what_happened</th>\n",
       "      <th>complaint_lemma</th>\n",
       "      <th>complaint_pos_removed</th>\n",
       "      <th>complaint_clean</th>\n",
       "    </tr>\n",
       "  </thead>\n",
       "  <tbody>\n",
       "    <tr>\n",
       "      <th>1</th>\n",
       "      <td>good morning my name is xxxx xxxx and i apprec...</td>\n",
       "      <td>good morning name xxxx xxxx appreciate could h...</td>\n",
       "      <td>morning name stop debt verification statement ...</td>\n",
       "      <td>morning name stop debt verification statement ...</td>\n",
       "    </tr>\n",
       "    <tr>\n",
       "      <th>2</th>\n",
       "      <td>i upgraded my xxxx xxxx card in xxxx and was t...</td>\n",
       "      <td>upgraded xxxx xxxx card xxxx told agent upgrad...</td>\n",
       "      <td>xxxx card agent anniversary date agent informa...</td>\n",
       "      <td>card agent anniversary date agent information...</td>\n",
       "    </tr>\n",
       "    <tr>\n",
       "      <th>10</th>\n",
       "      <td>chase card was reported on xxxx however fraudu...</td>\n",
       "      <td>chase card reported xxxx however fraudulent ap...</td>\n",
       "      <td>application identity consent credit identity a...</td>\n",
       "      <td>application identity consent credit identity a...</td>\n",
       "    </tr>\n",
       "    <tr>\n",
       "      <th>11</th>\n",
       "      <td>on xxxx while trying to book a xxxx  xxxx  tic...</td>\n",
       "      <td>xxxx trying book xxxx xxxx ticket came across ...</td>\n",
       "      <td>xxxx xxxx xxxx ticket offer ticket card inform...</td>\n",
       "      <td>ticket offer ticket card information offer ...</td>\n",
       "    </tr>\n",
       "    <tr>\n",
       "      <th>14</th>\n",
       "      <td>my grand son give me check for  i deposit it i...</td>\n",
       "      <td>grand son give check deposit chase account fun...</td>\n",
       "      <td>son chase account fund chase bank account mone...</td>\n",
       "      <td>son chase account fund chase bank account mone...</td>\n",
       "    </tr>\n",
       "    <tr>\n",
       "      <th>...</th>\n",
       "      <td>...</td>\n",
       "      <td>...</td>\n",
       "      <td>...</td>\n",
       "      <td>...</td>\n",
       "    </tr>\n",
       "    <tr>\n",
       "      <th>78303</th>\n",
       "      <td>after being a chase card customer for well ove...</td>\n",
       "      <td>chase card customer well decade offered multip...</td>\n",
       "      <td>chase card customer decade credit chase bonus ...</td>\n",
       "      <td>chase card customer decade credit chase bonus ...</td>\n",
       "    </tr>\n",
       "    <tr>\n",
       "      <th>78309</th>\n",
       "      <td>on wednesday xxxxxxxx i called chas my xxxx xx...</td>\n",
       "      <td>wednesday xxxxxxxx called chas xxxx xxxx visa ...</td>\n",
       "      <td>xxxx xxxx visa credit card provider claim purc...</td>\n",
       "      <td>visa credit card provider claim purchase pro...</td>\n",
       "    </tr>\n",
       "    <tr>\n",
       "      <th>78310</th>\n",
       "      <td>i am not familiar with xxxx pay and did not un...</td>\n",
       "      <td>familiar xxxx pay understand great risk provid...</td>\n",
       "      <td>pay risk chase bank app chase banking merchant...</td>\n",
       "      <td>pay risk chase bank app chase banking merchant...</td>\n",
       "    </tr>\n",
       "    <tr>\n",
       "      <th>78311</th>\n",
       "      <td>i have had flawless credit for  yrs ive had ch...</td>\n",
       "      <td>flawless credit yr ive chase credit card chase...</td>\n",
       "      <td>credit chase credit chase freedom balance life...</td>\n",
       "      <td>credit chase credit chase freedom balance life...</td>\n",
       "    </tr>\n",
       "    <tr>\n",
       "      <th>78312</th>\n",
       "      <td>roughly  years ago i closed out my accounts wi...</td>\n",
       "      <td>roughly year ago closed account jp morgan chas...</td>\n",
       "      <td>order line credit account payment payment cred...</td>\n",
       "      <td>order line credit account payment payment cred...</td>\n",
       "    </tr>\n",
       "  </tbody>\n",
       "</table>\n",
       "<p>21072 rows × 4 columns</p>\n",
       "</div>"
      ],
      "text/plain": [
       "                                 complaint_what_happened  \\\n",
       "1      good morning my name is xxxx xxxx and i apprec...   \n",
       "2      i upgraded my xxxx xxxx card in xxxx and was t...   \n",
       "10     chase card was reported on xxxx however fraudu...   \n",
       "11     on xxxx while trying to book a xxxx  xxxx  tic...   \n",
       "14     my grand son give me check for  i deposit it i...   \n",
       "...                                                  ...   \n",
       "78303  after being a chase card customer for well ove...   \n",
       "78309  on wednesday xxxxxxxx i called chas my xxxx xx...   \n",
       "78310  i am not familiar with xxxx pay and did not un...   \n",
       "78311  i have had flawless credit for  yrs ive had ch...   \n",
       "78312  roughly  years ago i closed out my accounts wi...   \n",
       "\n",
       "                                         complaint_lemma  \\\n",
       "1      good morning name xxxx xxxx appreciate could h...   \n",
       "2      upgraded xxxx xxxx card xxxx told agent upgrad...   \n",
       "10     chase card reported xxxx however fraudulent ap...   \n",
       "11     xxxx trying book xxxx xxxx ticket came across ...   \n",
       "14     grand son give check deposit chase account fun...   \n",
       "...                                                  ...   \n",
       "78303  chase card customer well decade offered multip...   \n",
       "78309  wednesday xxxxxxxx called chas xxxx xxxx visa ...   \n",
       "78310  familiar xxxx pay understand great risk provid...   \n",
       "78311  flawless credit yr ive chase credit card chase...   \n",
       "78312  roughly year ago closed account jp morgan chas...   \n",
       "\n",
       "                                   complaint_pos_removed  \\\n",
       "1      morning name stop debt verification statement ...   \n",
       "2      xxxx card agent anniversary date agent informa...   \n",
       "10     application identity consent credit identity a...   \n",
       "11     xxxx xxxx xxxx ticket offer ticket card inform...   \n",
       "14     son chase account fund chase bank account mone...   \n",
       "...                                                  ...   \n",
       "78303  chase card customer decade credit chase bonus ...   \n",
       "78309  xxxx xxxx visa credit card provider claim purc...   \n",
       "78310  pay risk chase bank app chase banking merchant...   \n",
       "78311  credit chase credit chase freedom balance life...   \n",
       "78312  order line credit account payment payment cred...   \n",
       "\n",
       "                                         complaint_clean  \n",
       "1      morning name stop debt verification statement ...  \n",
       "2       card agent anniversary date agent information...  \n",
       "10     application identity consent credit identity a...  \n",
       "11        ticket offer ticket card information offer ...  \n",
       "14     son chase account fund chase bank account mone...  \n",
       "...                                                  ...  \n",
       "78303  chase card customer decade credit chase bonus ...  \n",
       "78309    visa credit card provider claim purchase pro...  \n",
       "78310  pay risk chase bank app chase banking merchant...  \n",
       "78311  credit chase credit chase freedom balance life...  \n",
       "78312  order line credit account payment payment cred...  \n",
       "\n",
       "[21072 rows x 4 columns]"
      ]
     },
     "execution_count": 31,
     "metadata": {},
     "output_type": "execute_result"
    }
   ],
   "source": [
    "#All masked texts has been removed\n",
    "df_clean"
   ]
  },
  {
   "cell_type": "markdown",
   "metadata": {
    "id": "k-I0k0QtJrGA"
   },
   "source": [
    "## Feature Extraction\n",
    "Convert the raw texts to a matrix of TF-IDF features\n",
    "\n",
    "**max_df** is used for removing terms that appear too frequently, also known as \"corpus-specific stop words\"\n",
    "max_df = 0.95 means \"ignore terms that appear in more than 95% of the complaints\"\n",
    "\n",
    "**min_df** is used for removing terms that appear too infrequently\n",
    "min_df = 2 means \"ignore terms that appear in less than 2 complaints\""
   ]
  },
  {
   "cell_type": "code",
   "execution_count": 32,
   "metadata": {
    "id": "Y8fGwaCPJrGA"
   },
   "outputs": [],
   "source": [
    "#Write your code here to initialise the TfidfVectorizer \n",
    "tfidf = TfidfVectorizer(stop_words='english', min_df=2, max_df=0.95)"
   ]
  },
  {
   "cell_type": "markdown",
   "metadata": {
    "id": "yYzD85nTJrGA"
   },
   "source": [
    "#### Create a document term matrix using fit_transform\n",
    "\n",
    "The contents of a document term matrix are tuples of (complaint_id,token_id) tf-idf score:\n",
    "The tuples that are not there have a tf-idf score of 0"
   ]
  },
  {
   "cell_type": "code",
   "execution_count": 33,
   "metadata": {
    "id": "ffzdDpp_JrGB"
   },
   "outputs": [],
   "source": [
    "#Write your code here to create the Document Term Matrix by transforming the complaints column present in df_clean.\n",
    "dtm = tfidf.fit_transform(df_clean.complaint_clean.astype('U').values)"
   ]
  },
  {
   "cell_type": "markdown",
   "metadata": {
    "id": "7Q9lwvNEJrGB"
   },
   "source": [
    "## Topic Modelling using NMF\n",
    "\n",
    "Non-Negative Matrix Factorization (NMF) is an unsupervised technique so there are no labeling of topics that the model will be trained on. The way it works is that, NMF decomposes (or factorizes) high-dimensional vectors into a lower-dimensional representation. These lower-dimensional vectors are non-negative which also means their coefficients are non-negative.\n",
    "\n",
    "In this task you have to perform the following:\n",
    "\n",
    "* Find the best number of clusters \n",
    "* Apply the best number to create word clusters\n",
    "* Inspect & validate the correction of each cluster wrt the complaints \n",
    "* Correct the labels if needed \n",
    "* Map the clusters to topics/cluster names"
   ]
  },
  {
   "cell_type": "code",
   "execution_count": 34,
   "metadata": {
    "id": "amLT4omWJrGB"
   },
   "outputs": [],
   "source": [
    "from sklearn.decomposition import NMF"
   ]
  },
  {
   "cell_type": "markdown",
   "metadata": {
    "id": "0wYR1xUTJrGD"
   },
   "source": [
    "## Manual Topic Modeling\n",
    "You need to do take the trial & error approach to find the best num of topics for your NMF model.\n",
    "\n",
    "The only parameter that is required is the number of components i.e. the number of topics we want. This is the most crucial step in the whole topic modeling process and will greatly affect how good your final topics are."
   ]
  },
  {
   "cell_type": "code",
   "execution_count": 35,
   "metadata": {
    "id": "sgd2A6bhJrGD"
   },
   "outputs": [],
   "source": [
    "#Load your nmf_model with the n_components i.e 5\n",
    "num_topics = 5  #write the value you want to test out\n",
    "\n",
    "#keep the random_state =40\n",
    "nmf_model = NMF(n_components=num_topics, random_state=40) #write your code here"
   ]
  },
  {
   "cell_type": "code",
   "execution_count": 36,
   "metadata": {
    "id": "VPMDYbt_JrGE"
   },
   "outputs": [
    {
     "data": {
      "text/plain": [
       "5795"
      ]
     },
     "execution_count": 36,
     "metadata": {},
     "output_type": "execute_result"
    }
   ],
   "source": [
    "W = nmf_model.fit_transform(dtm)\n",
    "H = nmf_model.components_\n",
    "len(tfidf.get_feature_names())"
   ]
  },
  {
   "cell_type": "code",
   "execution_count": 37,
   "metadata": {
    "id": "16kRfat5JrGE"
   },
   "outputs": [
    {
     "data": {
      "text/html": [
       "<div>\n",
       "<style scoped>\n",
       "    .dataframe tbody tr th:only-of-type {\n",
       "        vertical-align: middle;\n",
       "    }\n",
       "\n",
       "    .dataframe tbody tr th {\n",
       "        vertical-align: top;\n",
       "    }\n",
       "\n",
       "    .dataframe thead th {\n",
       "        text-align: right;\n",
       "    }\n",
       "</style>\n",
       "<table border=\"1\" class=\"dataframe\">\n",
       "  <thead>\n",
       "    <tr style=\"text-align: right;\">\n",
       "      <th></th>\n",
       "      <th>Word 1</th>\n",
       "      <th>Word 2</th>\n",
       "      <th>Word 3</th>\n",
       "      <th>Word 4</th>\n",
       "      <th>Word 5</th>\n",
       "      <th>Word 6</th>\n",
       "      <th>Word 7</th>\n",
       "      <th>Word 8</th>\n",
       "      <th>Word 9</th>\n",
       "      <th>Word 10</th>\n",
       "      <th>Word 11</th>\n",
       "      <th>Word 12</th>\n",
       "      <th>Word 13</th>\n",
       "      <th>Word 14</th>\n",
       "      <th>Word 15</th>\n",
       "    </tr>\n",
       "  </thead>\n",
       "  <tbody>\n",
       "    <tr>\n",
       "      <th>Topic 1</th>\n",
       "      <td>account</td>\n",
       "      <td>bank</td>\n",
       "      <td>money</td>\n",
       "      <td>check</td>\n",
       "      <td>chase</td>\n",
       "      <td>checking</td>\n",
       "      <td>branch</td>\n",
       "      <td>deposit</td>\n",
       "      <td>number</td>\n",
       "      <td>business</td>\n",
       "      <td>fraud</td>\n",
       "      <td>transaction</td>\n",
       "      <td>claim</td>\n",
       "      <td>information</td>\n",
       "      <td>day</td>\n",
       "    </tr>\n",
       "    <tr>\n",
       "      <th>Topic 2</th>\n",
       "      <td>card</td>\n",
       "      <td>chase</td>\n",
       "      <td>credit</td>\n",
       "      <td>charge</td>\n",
       "      <td>fraud</td>\n",
       "      <td>dispute</td>\n",
       "      <td>company</td>\n",
       "      <td>merchant</td>\n",
       "      <td>fee</td>\n",
       "      <td>purchase</td>\n",
       "      <td>time</td>\n",
       "      <td>service</td>\n",
       "      <td>customer</td>\n",
       "      <td>letter</td>\n",
       "      <td>number</td>\n",
       "    </tr>\n",
       "    <tr>\n",
       "      <th>Topic 3</th>\n",
       "      <td>loan</td>\n",
       "      <td>mortgage</td>\n",
       "      <td>chase</td>\n",
       "      <td>home</td>\n",
       "      <td>modification</td>\n",
       "      <td>property</td>\n",
       "      <td>foreclosure</td>\n",
       "      <td>letter</td>\n",
       "      <td>house</td>\n",
       "      <td>time</td>\n",
       "      <td>rate</td>\n",
       "      <td>sale</td>\n",
       "      <td>information</td>\n",
       "      <td>process</td>\n",
       "      <td>escrow</td>\n",
       "    </tr>\n",
       "    <tr>\n",
       "      <th>Topic 4</th>\n",
       "      <td>credit</td>\n",
       "      <td>report</td>\n",
       "      <td>inquiry</td>\n",
       "      <td>score</td>\n",
       "      <td>debt</td>\n",
       "      <td>reporting</td>\n",
       "      <td>account</td>\n",
       "      <td>information</td>\n",
       "      <td>bureaus</td>\n",
       "      <td>limit</td>\n",
       "      <td>identity</td>\n",
       "      <td>theft</td>\n",
       "      <td>company</td>\n",
       "      <td>history</td>\n",
       "      <td>bureau</td>\n",
       "    </tr>\n",
       "    <tr>\n",
       "      <th>Topic 5</th>\n",
       "      <td>payment</td>\n",
       "      <td>balance</td>\n",
       "      <td>month</td>\n",
       "      <td>fee</td>\n",
       "      <td>statement</td>\n",
       "      <td>date</td>\n",
       "      <td>auto</td>\n",
       "      <td>time</td>\n",
       "      <td>chase</td>\n",
       "      <td>day</td>\n",
       "      <td>error</td>\n",
       "      <td>car</td>\n",
       "      <td>history</td>\n",
       "      <td>account</td>\n",
       "      <td>transfer</td>\n",
       "    </tr>\n",
       "  </tbody>\n",
       "</table>\n",
       "</div>"
      ],
      "text/plain": [
       "          Word 1    Word 2   Word 3  Word 4        Word 5     Word 6  \\\n",
       "Topic 1  account      bank    money   check         chase   checking   \n",
       "Topic 2     card     chase   credit  charge         fraud    dispute   \n",
       "Topic 3     loan  mortgage    chase    home  modification   property   \n",
       "Topic 4   credit    report  inquiry   score          debt  reporting   \n",
       "Topic 5  payment   balance    month     fee     statement       date   \n",
       "\n",
       "              Word 7       Word 8   Word 9   Word 10   Word 11      Word 12  \\\n",
       "Topic 1       branch      deposit   number  business     fraud  transaction   \n",
       "Topic 2      company     merchant      fee  purchase      time      service   \n",
       "Topic 3  foreclosure       letter    house      time      rate         sale   \n",
       "Topic 4      account  information  bureaus     limit  identity        theft   \n",
       "Topic 5         auto         time    chase       day     error          car   \n",
       "\n",
       "             Word 13      Word 14   Word 15  \n",
       "Topic 1        claim  information       day  \n",
       "Topic 2     customer       letter    number  \n",
       "Topic 3  information      process    escrow  \n",
       "Topic 4      company      history    bureau  \n",
       "Topic 5      history      account  transfer  "
      ]
     },
     "execution_count": 37,
     "metadata": {},
     "output_type": "execute_result"
    }
   ],
   "source": [
    "#Print the Top15 words for each of the topics\n",
    "words = np.array(tfidf.get_feature_names())\n",
    "topic_words = pd.DataFrame(np.zeros((num_topics, 15)), index=[f'Topic {i+1}' for i in range(num_topics)],\n",
    "                columns=[f'Word {i + 1}' for i in range(15)]).astype('str')\n",
    "\n",
    "for i in range(num_topics):\n",
    "    ix = H[i].argsort()[::-1][:15]\n",
    "    topic_words.iloc[i] = words[ix]\n",
    "topic_words"
   ]
  },
  {
   "cell_type": "code",
   "execution_count": 38,
   "metadata": {
    "id": "0OIT7LmFJrGF"
   },
   "outputs": [
    {
     "data": {
      "text/html": [
       "<div>\n",
       "<style scoped>\n",
       "    .dataframe tbody tr th:only-of-type {\n",
       "        vertical-align: middle;\n",
       "    }\n",
       "\n",
       "    .dataframe tbody tr th {\n",
       "        vertical-align: top;\n",
       "    }\n",
       "\n",
       "    .dataframe thead th {\n",
       "        text-align: right;\n",
       "    }\n",
       "</style>\n",
       "<table border=\"1\" class=\"dataframe\">\n",
       "  <thead>\n",
       "    <tr style=\"text-align: right;\">\n",
       "      <th></th>\n",
       "      <th>Topic 1</th>\n",
       "      <th>Topic 2</th>\n",
       "      <th>Topic 3</th>\n",
       "      <th>Topic 4</th>\n",
       "      <th>Topic 5</th>\n",
       "      <th>max_topic</th>\n",
       "    </tr>\n",
       "  </thead>\n",
       "  <tbody>\n",
       "    <tr>\n",
       "      <th>0</th>\n",
       "      <td>0.011170</td>\n",
       "      <td>0.003323</td>\n",
       "      <td>0.019848</td>\n",
       "      <td>0.015343</td>\n",
       "      <td>0.012607</td>\n",
       "      <td>Topic 3</td>\n",
       "    </tr>\n",
       "    <tr>\n",
       "      <th>1</th>\n",
       "      <td>0.008903</td>\n",
       "      <td>0.017788</td>\n",
       "      <td>0.002194</td>\n",
       "      <td>0.000000</td>\n",
       "      <td>0.003828</td>\n",
       "      <td>Topic 2</td>\n",
       "    </tr>\n",
       "    <tr>\n",
       "      <th>2</th>\n",
       "      <td>0.000403</td>\n",
       "      <td>0.000000</td>\n",
       "      <td>0.003017</td>\n",
       "      <td>0.035899</td>\n",
       "      <td>0.000000</td>\n",
       "      <td>Topic 4</td>\n",
       "    </tr>\n",
       "    <tr>\n",
       "      <th>3</th>\n",
       "      <td>0.017781</td>\n",
       "      <td>0.024465</td>\n",
       "      <td>0.013546</td>\n",
       "      <td>0.047798</td>\n",
       "      <td>0.000954</td>\n",
       "      <td>Topic 4</td>\n",
       "    </tr>\n",
       "    <tr>\n",
       "      <th>4</th>\n",
       "      <td>0.063169</td>\n",
       "      <td>0.006311</td>\n",
       "      <td>0.010087</td>\n",
       "      <td>0.000000</td>\n",
       "      <td>0.000000</td>\n",
       "      <td>Topic 1</td>\n",
       "    </tr>\n",
       "    <tr>\n",
       "      <th>5</th>\n",
       "      <td>0.000000</td>\n",
       "      <td>0.000000</td>\n",
       "      <td>0.000000</td>\n",
       "      <td>0.044436</td>\n",
       "      <td>0.000000</td>\n",
       "      <td>Topic 4</td>\n",
       "    </tr>\n",
       "    <tr>\n",
       "      <th>6</th>\n",
       "      <td>0.056972</td>\n",
       "      <td>0.012029</td>\n",
       "      <td>0.007063</td>\n",
       "      <td>0.000000</td>\n",
       "      <td>0.005747</td>\n",
       "      <td>Topic 1</td>\n",
       "    </tr>\n",
       "    <tr>\n",
       "      <th>7</th>\n",
       "      <td>0.003201</td>\n",
       "      <td>0.005944</td>\n",
       "      <td>0.034409</td>\n",
       "      <td>0.000256</td>\n",
       "      <td>0.059782</td>\n",
       "      <td>Topic 5</td>\n",
       "    </tr>\n",
       "    <tr>\n",
       "      <th>8</th>\n",
       "      <td>0.029286</td>\n",
       "      <td>0.032237</td>\n",
       "      <td>0.023027</td>\n",
       "      <td>0.000000</td>\n",
       "      <td>0.008483</td>\n",
       "      <td>Topic 2</td>\n",
       "    </tr>\n",
       "    <tr>\n",
       "      <th>9</th>\n",
       "      <td>0.000000</td>\n",
       "      <td>0.056810</td>\n",
       "      <td>0.000000</td>\n",
       "      <td>0.129579</td>\n",
       "      <td>0.000000</td>\n",
       "      <td>Topic 4</td>\n",
       "    </tr>\n",
       "  </tbody>\n",
       "</table>\n",
       "</div>"
      ],
      "text/plain": [
       "    Topic 1   Topic 2   Topic 3   Topic 4   Topic 5 max_topic\n",
       "0  0.011170  0.003323  0.019848  0.015343  0.012607   Topic 3\n",
       "1  0.008903  0.017788  0.002194  0.000000  0.003828   Topic 2\n",
       "2  0.000403  0.000000  0.003017  0.035899  0.000000   Topic 4\n",
       "3  0.017781  0.024465  0.013546  0.047798  0.000954   Topic 4\n",
       "4  0.063169  0.006311  0.010087  0.000000  0.000000   Topic 1\n",
       "5  0.000000  0.000000  0.000000  0.044436  0.000000   Topic 4\n",
       "6  0.056972  0.012029  0.007063  0.000000  0.005747   Topic 1\n",
       "7  0.003201  0.005944  0.034409  0.000256  0.059782   Topic 5\n",
       "8  0.029286  0.032237  0.023027  0.000000  0.008483   Topic 2\n",
       "9  0.000000  0.056810  0.000000  0.129579  0.000000   Topic 4"
      ]
     },
     "execution_count": 38,
     "metadata": {},
     "output_type": "execute_result"
    }
   ],
   "source": [
    "#Create the best topic for each complaint in terms of integer value 0,1,2,3 & 4\n",
    "\n",
    "W = pd.DataFrame(W, columns=[f'Topic {i + 1}' for i in range(num_topics)])\n",
    "W['max_topic'] = W.apply(lambda x: x.idxmax(), axis=1)\n",
    "W[pd.notnull(W['max_topic'])].head(10)"
   ]
  },
  {
   "cell_type": "code",
   "execution_count": 39,
   "metadata": {
    "id": "peyYv-ORJrGF"
   },
   "outputs": [
    {
     "name": "stderr",
     "output_type": "stream",
     "text": [
      "C:\\Users\\balaji\\Anaconda3\\lib\\site-packages\\ipykernel_launcher.py:3: SettingWithCopyWarning:\n",
      "\n",
      "\n",
      "A value is trying to be set on a copy of a slice from a DataFrame.\n",
      "Try using .loc[row_indexer,col_indexer] = value instead\n",
      "\n",
      "See the caveats in the documentation: https://pandas.pydata.org/pandas-docs/stable/user_guide/indexing.html#returning-a-view-versus-a-copy\n",
      "\n"
     ]
    }
   ],
   "source": [
    "#Assign the best topic to each of the cmplaints in Topic Column\n",
    "\n",
    "df_clean['Topic'] = W.max_topic.values"
   ]
  },
  {
   "cell_type": "code",
   "execution_count": 40,
   "metadata": {
    "id": "fLh_Gf3nJrGF"
   },
   "outputs": [
    {
     "data": {
      "text/html": [
       "<div>\n",
       "<style scoped>\n",
       "    .dataframe tbody tr th:only-of-type {\n",
       "        vertical-align: middle;\n",
       "    }\n",
       "\n",
       "    .dataframe tbody tr th {\n",
       "        vertical-align: top;\n",
       "    }\n",
       "\n",
       "    .dataframe thead th {\n",
       "        text-align: right;\n",
       "    }\n",
       "</style>\n",
       "<table border=\"1\" class=\"dataframe\">\n",
       "  <thead>\n",
       "    <tr style=\"text-align: right;\">\n",
       "      <th></th>\n",
       "      <th>complaint_what_happened</th>\n",
       "      <th>complaint_lemma</th>\n",
       "      <th>complaint_pos_removed</th>\n",
       "      <th>complaint_clean</th>\n",
       "      <th>Topic</th>\n",
       "    </tr>\n",
       "  </thead>\n",
       "  <tbody>\n",
       "    <tr>\n",
       "      <th>1</th>\n",
       "      <td>good morning my name is xxxx xxxx and i apprec...</td>\n",
       "      <td>good morning name xxxx xxxx appreciate could h...</td>\n",
       "      <td>morning name stop debt verification statement ...</td>\n",
       "      <td>morning name stop debt verification statement ...</td>\n",
       "      <td>Topic 3</td>\n",
       "    </tr>\n",
       "    <tr>\n",
       "      <th>2</th>\n",
       "      <td>i upgraded my xxxx xxxx card in xxxx and was t...</td>\n",
       "      <td>upgraded xxxx xxxx card xxxx told agent upgrad...</td>\n",
       "      <td>xxxx card agent anniversary date agent informa...</td>\n",
       "      <td>card agent anniversary date agent information...</td>\n",
       "      <td>Topic 2</td>\n",
       "    </tr>\n",
       "    <tr>\n",
       "      <th>10</th>\n",
       "      <td>chase card was reported on xxxx however fraudu...</td>\n",
       "      <td>chase card reported xxxx however fraudulent ap...</td>\n",
       "      <td>application identity consent credit identity a...</td>\n",
       "      <td>application identity consent credit identity a...</td>\n",
       "      <td>Topic 4</td>\n",
       "    </tr>\n",
       "    <tr>\n",
       "      <th>11</th>\n",
       "      <td>on xxxx while trying to book a xxxx  xxxx  tic...</td>\n",
       "      <td>xxxx trying book xxxx xxxx ticket came across ...</td>\n",
       "      <td>xxxx xxxx xxxx ticket offer ticket card inform...</td>\n",
       "      <td>ticket offer ticket card information offer ...</td>\n",
       "      <td>Topic 4</td>\n",
       "    </tr>\n",
       "    <tr>\n",
       "      <th>14</th>\n",
       "      <td>my grand son give me check for  i deposit it i...</td>\n",
       "      <td>grand son give check deposit chase account fun...</td>\n",
       "      <td>son chase account fund chase bank account mone...</td>\n",
       "      <td>son chase account fund chase bank account mone...</td>\n",
       "      <td>Topic 1</td>\n",
       "    </tr>\n",
       "  </tbody>\n",
       "</table>\n",
       "</div>"
      ],
      "text/plain": [
       "                              complaint_what_happened  \\\n",
       "1   good morning my name is xxxx xxxx and i apprec...   \n",
       "2   i upgraded my xxxx xxxx card in xxxx and was t...   \n",
       "10  chase card was reported on xxxx however fraudu...   \n",
       "11  on xxxx while trying to book a xxxx  xxxx  tic...   \n",
       "14  my grand son give me check for  i deposit it i...   \n",
       "\n",
       "                                      complaint_lemma  \\\n",
       "1   good morning name xxxx xxxx appreciate could h...   \n",
       "2   upgraded xxxx xxxx card xxxx told agent upgrad...   \n",
       "10  chase card reported xxxx however fraudulent ap...   \n",
       "11  xxxx trying book xxxx xxxx ticket came across ...   \n",
       "14  grand son give check deposit chase account fun...   \n",
       "\n",
       "                                complaint_pos_removed  \\\n",
       "1   morning name stop debt verification statement ...   \n",
       "2   xxxx card agent anniversary date agent informa...   \n",
       "10  application identity consent credit identity a...   \n",
       "11  xxxx xxxx xxxx ticket offer ticket card inform...   \n",
       "14  son chase account fund chase bank account mone...   \n",
       "\n",
       "                                      complaint_clean    Topic  \n",
       "1   morning name stop debt verification statement ...  Topic 3  \n",
       "2    card agent anniversary date agent information...  Topic 2  \n",
       "10  application identity consent credit identity a...  Topic 4  \n",
       "11     ticket offer ticket card information offer ...  Topic 4  \n",
       "14  son chase account fund chase bank account mone...  Topic 1  "
      ]
     },
     "execution_count": 40,
     "metadata": {},
     "output_type": "execute_result"
    }
   ],
   "source": [
    "df_clean.head()"
   ]
  },
  {
   "cell_type": "code",
   "execution_count": 41,
   "metadata": {
    "id": "aQKpufSPJrGG"
   },
   "outputs": [
    {
     "data": {
      "text/html": [
       "<div>\n",
       "<style scoped>\n",
       "    .dataframe tbody tr th:only-of-type {\n",
       "        vertical-align: middle;\n",
       "    }\n",
       "\n",
       "    .dataframe tbody tr th {\n",
       "        vertical-align: top;\n",
       "    }\n",
       "\n",
       "    .dataframe thead th {\n",
       "        text-align: right;\n",
       "    }\n",
       "</style>\n",
       "<table border=\"1\" class=\"dataframe\">\n",
       "  <thead>\n",
       "    <tr style=\"text-align: right;\">\n",
       "      <th></th>\n",
       "      <th>complaint_what_happened</th>\n",
       "      <th>complaint_lemma</th>\n",
       "      <th>complaint_pos_removed</th>\n",
       "      <th>complaint_clean</th>\n",
       "      <th>Topic</th>\n",
       "    </tr>\n",
       "  </thead>\n",
       "  <tbody>\n",
       "    <tr>\n",
       "      <th>27</th>\n",
       "      <td>i opened an account with chase bank on xxxx an...</td>\n",
       "      <td>opened account chase bank xxxx used code xxxx ...</td>\n",
       "      <td>account code xxxx bonus xxxxxxxx everything ac...</td>\n",
       "      <td>account code  bonus  everything account deposi...</td>\n",
       "      <td>Topic 1</td>\n",
       "    </tr>\n",
       "    <tr>\n",
       "      <th>14</th>\n",
       "      <td>my grand son give me check for  i deposit it i...</td>\n",
       "      <td>grand son give check deposit chase account fun...</td>\n",
       "      <td>son chase account fund chase bank account mone...</td>\n",
       "      <td>son chase account fund chase bank account mone...</td>\n",
       "      <td>Topic 1</td>\n",
       "    </tr>\n",
       "    <tr>\n",
       "      <th>17</th>\n",
       "      <td>with out notice jp morgan chase restricted my ...</td>\n",
       "      <td>notice jp morgan chase restricted account debi...</td>\n",
       "      <td>notice account debit card branch customer serv...</td>\n",
       "      <td>notice account debit card branch customer serv...</td>\n",
       "      <td>Topic 1</td>\n",
       "    </tr>\n",
       "    <tr>\n",
       "      <th>24</th>\n",
       "      <td>mishandling of this account by chase auto and ...</td>\n",
       "      <td>mishandling account chase auto xxxx</td>\n",
       "      <td>account auto xxxx</td>\n",
       "      <td>account auto</td>\n",
       "      <td>Topic 1</td>\n",
       "    </tr>\n",
       "    <tr>\n",
       "      <th>30</th>\n",
       "      <td>to whom it may concern chase bank charged wron...</td>\n",
       "      <td>may concern chase bank charged wrongly overdra...</td>\n",
       "      <td>concern bank overdraft alert balance fee balan...</td>\n",
       "      <td>concern bank overdraft alert balance fee balan...</td>\n",
       "      <td>Topic 1</td>\n",
       "    </tr>\n",
       "    <tr>\n",
       "      <th>2</th>\n",
       "      <td>i upgraded my xxxx xxxx card in xxxx and was t...</td>\n",
       "      <td>upgraded xxxx xxxx card xxxx told agent upgrad...</td>\n",
       "      <td>xxxx card agent anniversary date agent informa...</td>\n",
       "      <td>card agent anniversary date agent information...</td>\n",
       "      <td>Topic 2</td>\n",
       "    </tr>\n",
       "    <tr>\n",
       "      <th>48</th>\n",
       "      <td>jp morgan chase bank please answer the followi...</td>\n",
       "      <td>jp morgan chase bank please answer following q...</td>\n",
       "      <td>information xxxx xxxx xxxx xxxx reason informa...</td>\n",
       "      <td>information     reason information     chase a...</td>\n",
       "      <td>Topic 2</td>\n",
       "    </tr>\n",
       "    <tr>\n",
       "      <th>21</th>\n",
       "      <td>on xxxx xxxx i made a  payment to an online re...</td>\n",
       "      <td>xxxx xxxx made payment online retailer using c...</td>\n",
       "      <td>xxxx xxxx payment retailer chase pay xxxx chas...</td>\n",
       "      <td>payment retailer chase pay  chase website sc...</td>\n",
       "      <td>Topic 2</td>\n",
       "    </tr>\n",
       "    <tr>\n",
       "      <th>40</th>\n",
       "      <td>xxxx xxxx a sofa love seat table and chairs an...</td>\n",
       "      <td>xxxx xxxx sofa love seat table chair never del...</td>\n",
       "      <td>xxxx xxxx sofa love seat table debit card bank...</td>\n",
       "      <td>sofa love seat table debit card bank visa cl...</td>\n",
       "      <td>Topic 2</td>\n",
       "    </tr>\n",
       "    <tr>\n",
       "      <th>32</th>\n",
       "      <td>my chase amazon card was declined for a cateri...</td>\n",
       "      <td>chase amazon card declined catering order plac...</td>\n",
       "      <td>chase card catering order funeral amount chase...</td>\n",
       "      <td>chase card catering order funeral amount chase...</td>\n",
       "      <td>Topic 2</td>\n",
       "    </tr>\n",
       "    <tr>\n",
       "      <th>81</th>\n",
       "      <td>i bought a new xxxx xxxx on xxxxxxxx from xxxx...</td>\n",
       "      <td>bought new xxxx xxxx xxxxxxxx xxxx xxxx xxxx x...</td>\n",
       "      <td>xxxx xxxx xxxxxxxx xxxx xxxx xxxx loan title c...</td>\n",
       "      <td>loan title chase time resolution time no...</td>\n",
       "      <td>Topic 3</td>\n",
       "    </tr>\n",
       "    <tr>\n",
       "      <th>73</th>\n",
       "      <td>i have wired through one of chase branches in ...</td>\n",
       "      <td>wired one chase branch xxxx xxxx exact reinsta...</td>\n",
       "      <td>chase xxxx xxxx reinstatement amount order for...</td>\n",
       "      <td>chase   reinstatement amount order foreclosure...</td>\n",
       "      <td>Topic 3</td>\n",
       "    </tr>\n",
       "    <tr>\n",
       "      <th>57</th>\n",
       "      <td>i have been trying to do a loan modification w...</td>\n",
       "      <td>trying loan modification chase give runaround ...</td>\n",
       "      <td>loan modification chase runaround mo</td>\n",
       "      <td>loan modification chase runaround mo</td>\n",
       "      <td>Topic 3</td>\n",
       "    </tr>\n",
       "    <tr>\n",
       "      <th>43</th>\n",
       "      <td>chase sent me an email today with the innocuou...</td>\n",
       "      <td>chase sent email today innocuous title importa...</td>\n",
       "      <td>chase email today title information chase arbi...</td>\n",
       "      <td>chase email today title information chase arbi...</td>\n",
       "      <td>Topic 3</td>\n",
       "    </tr>\n",
       "    <tr>\n",
       "      <th>1</th>\n",
       "      <td>good morning my name is xxxx xxxx and i apprec...</td>\n",
       "      <td>good morning name xxxx xxxx appreciate could h...</td>\n",
       "      <td>morning name stop debt verification statement ...</td>\n",
       "      <td>morning name stop debt verification statement ...</td>\n",
       "      <td>Topic 3</td>\n",
       "    </tr>\n",
       "    <tr>\n",
       "      <th>26</th>\n",
       "      <td>i have reached out to xxxx several times in at...</td>\n",
       "      <td>reached xxxx several time attempt fraudulent i...</td>\n",
       "      <td>xxxx attempt inquiry creditor inquiry report b...</td>\n",
       "      <td>attempt inquiry creditor inquiry report bank ...</td>\n",
       "      <td>Topic 4</td>\n",
       "    </tr>\n",
       "    <tr>\n",
       "      <th>23</th>\n",
       "      <td>i have a chase credit card which is incorrectl...</td>\n",
       "      <td>chase credit card incorrectly reporting data c...</td>\n",
       "      <td>credit card credit report company issue</td>\n",
       "      <td>credit card credit report company issue</td>\n",
       "      <td>Topic 4</td>\n",
       "    </tr>\n",
       "    <tr>\n",
       "      <th>15</th>\n",
       "      <td>can you please remove inquiry</td>\n",
       "      <td>please remove inquiry</td>\n",
       "      <td>inquiry</td>\n",
       "      <td>inquiry</td>\n",
       "      <td>Topic 4</td>\n",
       "    </tr>\n",
       "    <tr>\n",
       "      <th>11</th>\n",
       "      <td>on xxxx while trying to book a xxxx  xxxx  tic...</td>\n",
       "      <td>xxxx trying book xxxx xxxx ticket came across ...</td>\n",
       "      <td>xxxx xxxx xxxx ticket offer ticket card inform...</td>\n",
       "      <td>ticket offer ticket card information offer ...</td>\n",
       "      <td>Topic 4</td>\n",
       "    </tr>\n",
       "    <tr>\n",
       "      <th>10</th>\n",
       "      <td>chase card was reported on xxxx however fraudu...</td>\n",
       "      <td>chase card reported xxxx however fraudulent ap...</td>\n",
       "      <td>application identity consent credit identity a...</td>\n",
       "      <td>application identity consent credit identity a...</td>\n",
       "      <td>Topic 4</td>\n",
       "    </tr>\n",
       "    <tr>\n",
       "      <th>20</th>\n",
       "      <td>during the summer months i experience a declin...</td>\n",
       "      <td>summer month experience decline income due emp...</td>\n",
       "      <td>summer decline income employment month payment...</td>\n",
       "      <td>summer decline income employment month payment...</td>\n",
       "      <td>Topic 5</td>\n",
       "    </tr>\n",
       "    <tr>\n",
       "      <th>58</th>\n",
       "      <td>i made a purchase of  on xxxxxxxx i made payme...</td>\n",
       "      <td>made purchase xxxxxxxx made payment xxxxxxxx x...</td>\n",
       "      <td>purchase xxxxxxxx xxxxxxxx xxxxxxxx payment cl...</td>\n",
       "      <td>purchase    payment closing date  statement st...</td>\n",
       "      <td>Topic 5</td>\n",
       "    </tr>\n",
       "    <tr>\n",
       "      <th>82</th>\n",
       "      <td>i recently called to ask chase bank why they r...</td>\n",
       "      <td>recently called ask chase bank reported credit...</td>\n",
       "      <td>chase bank credit bureau payment info xxxx xxx...</td>\n",
       "      <td>chase bank credit bureau payment info   bill b...</td>\n",
       "      <td>Topic 5</td>\n",
       "    </tr>\n",
       "    <tr>\n",
       "      <th>141</th>\n",
       "      <td>action taken by the company between the dates ...</td>\n",
       "      <td>action taken company date xxxxxxxx xxxxxxxx in...</td>\n",
       "      <td>action company xxxxxxxx xxxxxxxx group chase x...</td>\n",
       "      <td>action company   group chase  claim individual...</td>\n",
       "      <td>Topic 5</td>\n",
       "    </tr>\n",
       "    <tr>\n",
       "      <th>164</th>\n",
       "      <td>in xxxx of this year chase withdrew money from...</td>\n",
       "      <td>xxxx year chase withdrew money escrow account ...</td>\n",
       "      <td>xxxx year chase money escrow property money pr...</td>\n",
       "      <td>year chase money escrow property money proper...</td>\n",
       "      <td>Topic 5</td>\n",
       "    </tr>\n",
       "  </tbody>\n",
       "</table>\n",
       "</div>"
      ],
      "text/plain": [
       "                               complaint_what_happened  \\\n",
       "27   i opened an account with chase bank on xxxx an...   \n",
       "14   my grand son give me check for  i deposit it i...   \n",
       "17   with out notice jp morgan chase restricted my ...   \n",
       "24   mishandling of this account by chase auto and ...   \n",
       "30   to whom it may concern chase bank charged wron...   \n",
       "2    i upgraded my xxxx xxxx card in xxxx and was t...   \n",
       "48   jp morgan chase bank please answer the followi...   \n",
       "21   on xxxx xxxx i made a  payment to an online re...   \n",
       "40   xxxx xxxx a sofa love seat table and chairs an...   \n",
       "32   my chase amazon card was declined for a cateri...   \n",
       "81   i bought a new xxxx xxxx on xxxxxxxx from xxxx...   \n",
       "73   i have wired through one of chase branches in ...   \n",
       "57   i have been trying to do a loan modification w...   \n",
       "43   chase sent me an email today with the innocuou...   \n",
       "1    good morning my name is xxxx xxxx and i apprec...   \n",
       "26   i have reached out to xxxx several times in at...   \n",
       "23   i have a chase credit card which is incorrectl...   \n",
       "15                       can you please remove inquiry   \n",
       "11   on xxxx while trying to book a xxxx  xxxx  tic...   \n",
       "10   chase card was reported on xxxx however fraudu...   \n",
       "20   during the summer months i experience a declin...   \n",
       "58   i made a purchase of  on xxxxxxxx i made payme...   \n",
       "82   i recently called to ask chase bank why they r...   \n",
       "141  action taken by the company between the dates ...   \n",
       "164  in xxxx of this year chase withdrew money from...   \n",
       "\n",
       "                                       complaint_lemma  \\\n",
       "27   opened account chase bank xxxx used code xxxx ...   \n",
       "14   grand son give check deposit chase account fun...   \n",
       "17   notice jp morgan chase restricted account debi...   \n",
       "24                 mishandling account chase auto xxxx   \n",
       "30   may concern chase bank charged wrongly overdra...   \n",
       "2    upgraded xxxx xxxx card xxxx told agent upgrad...   \n",
       "48   jp morgan chase bank please answer following q...   \n",
       "21   xxxx xxxx made payment online retailer using c...   \n",
       "40   xxxx xxxx sofa love seat table chair never del...   \n",
       "32   chase amazon card declined catering order plac...   \n",
       "81   bought new xxxx xxxx xxxxxxxx xxxx xxxx xxxx x...   \n",
       "73   wired one chase branch xxxx xxxx exact reinsta...   \n",
       "57   trying loan modification chase give runaround ...   \n",
       "43   chase sent email today innocuous title importa...   \n",
       "1    good morning name xxxx xxxx appreciate could h...   \n",
       "26   reached xxxx several time attempt fraudulent i...   \n",
       "23   chase credit card incorrectly reporting data c...   \n",
       "15                               please remove inquiry   \n",
       "11   xxxx trying book xxxx xxxx ticket came across ...   \n",
       "10   chase card reported xxxx however fraudulent ap...   \n",
       "20   summer month experience decline income due emp...   \n",
       "58   made purchase xxxxxxxx made payment xxxxxxxx x...   \n",
       "82   recently called ask chase bank reported credit...   \n",
       "141  action taken company date xxxxxxxx xxxxxxxx in...   \n",
       "164  xxxx year chase withdrew money escrow account ...   \n",
       "\n",
       "                                 complaint_pos_removed  \\\n",
       "27   account code xxxx bonus xxxxxxxx everything ac...   \n",
       "14   son chase account fund chase bank account mone...   \n",
       "17   notice account debit card branch customer serv...   \n",
       "24                                   account auto xxxx   \n",
       "30   concern bank overdraft alert balance fee balan...   \n",
       "2    xxxx card agent anniversary date agent informa...   \n",
       "48   information xxxx xxxx xxxx xxxx reason informa...   \n",
       "21   xxxx xxxx payment retailer chase pay xxxx chas...   \n",
       "40   xxxx xxxx sofa love seat table debit card bank...   \n",
       "32   chase card catering order funeral amount chase...   \n",
       "81   xxxx xxxx xxxxxxxx xxxx xxxx xxxx loan title c...   \n",
       "73   chase xxxx xxxx reinstatement amount order for...   \n",
       "57                loan modification chase runaround mo   \n",
       "43   chase email today title information chase arbi...   \n",
       "1    morning name stop debt verification statement ...   \n",
       "26   xxxx attempt inquiry creditor inquiry report b...   \n",
       "23             credit card credit report company issue   \n",
       "15                                             inquiry   \n",
       "11   xxxx xxxx xxxx ticket offer ticket card inform...   \n",
       "10   application identity consent credit identity a...   \n",
       "20   summer decline income employment month payment...   \n",
       "58   purchase xxxxxxxx xxxxxxxx xxxxxxxx payment cl...   \n",
       "82   chase bank credit bureau payment info xxxx xxx...   \n",
       "141  action company xxxxxxxx xxxxxxxx group chase x...   \n",
       "164  xxxx year chase money escrow property money pr...   \n",
       "\n",
       "                                       complaint_clean    Topic  \n",
       "27   account code  bonus  everything account deposi...  Topic 1  \n",
       "14   son chase account fund chase bank account mone...  Topic 1  \n",
       "17   notice account debit card branch customer serv...  Topic 1  \n",
       "24                                       account auto   Topic 1  \n",
       "30   concern bank overdraft alert balance fee balan...  Topic 1  \n",
       "2     card agent anniversary date agent information...  Topic 2  \n",
       "48   information     reason information     chase a...  Topic 2  \n",
       "21     payment retailer chase pay  chase website sc...  Topic 2  \n",
       "40     sofa love seat table debit card bank visa cl...  Topic 2  \n",
       "32   chase card catering order funeral amount chase...  Topic 2  \n",
       "81         loan title chase time resolution time no...  Topic 3  \n",
       "73   chase   reinstatement amount order foreclosure...  Topic 3  \n",
       "57                loan modification chase runaround mo  Topic 3  \n",
       "43   chase email today title information chase arbi...  Topic 3  \n",
       "1    morning name stop debt verification statement ...  Topic 3  \n",
       "26    attempt inquiry creditor inquiry report bank ...  Topic 4  \n",
       "23             credit card credit report company issue  Topic 4  \n",
       "15                                             inquiry  Topic 4  \n",
       "11      ticket offer ticket card information offer ...  Topic 4  \n",
       "10   application identity consent credit identity a...  Topic 4  \n",
       "20   summer decline income employment month payment...  Topic 5  \n",
       "58   purchase    payment closing date  statement st...  Topic 5  \n",
       "82   chase bank credit bureau payment info   bill b...  Topic 5  \n",
       "141  action company   group chase  claim individual...  Topic 5  \n",
       "164   year chase money escrow property money proper...  Topic 5  "
      ]
     },
     "execution_count": 41,
     "metadata": {},
     "output_type": "execute_result"
    }
   ],
   "source": [
    "#Print the first 5 Complaint for each of the Topics\n",
    "df_clean_temp=df_clean.groupby('Topic').head(5)\n",
    "df_clean_temp.sort_values('Topic')"
   ]
  },
  {
   "cell_type": "markdown",
   "metadata": {
    "id": "piyLxzj6v07j"
   },
   "source": [
    "#### After evaluating the mapping, if the topics assigned are correct then assign these names to the relevant topic:\n",
    "* Bank Account services\n",
    "* Credit card or prepaid card\n",
    "* Theft/Dispute Reporting\n",
    "* Mortgage/Loan\n",
    "* Others"
   ]
  },
  {
   "cell_type": "code",
   "execution_count": 42,
   "metadata": {
    "id": "TWpwDG4RJrGG"
   },
   "outputs": [
    {
     "name": "stderr",
     "output_type": "stream",
     "text": [
      "C:\\Users\\balaji\\Anaconda3\\lib\\site-packages\\ipykernel_launcher.py:11: SettingWithCopyWarning:\n",
      "\n",
      "\n",
      "A value is trying to be set on a copy of a slice from a DataFrame.\n",
      "Try using .loc[row_indexer,col_indexer] = value instead\n",
      "\n",
      "See the caveats in the documentation: https://pandas.pydata.org/pandas-docs/stable/user_guide/indexing.html#returning-a-view-versus-a-copy\n",
      "\n"
     ]
    }
   ],
   "source": [
    "#Create the dictionary of Topic names and Topics\n",
    "Topic_names = {\n",
    "    'Topic 1': 'Bank account services',\n",
    "    'Topic 2': 'Credit card / Prepaid card',\n",
    "    'Topic 3': 'Mortgages/loans',\n",
    "    'Topic 4': 'Theft/Dispute reporting',\n",
    "    'Topic 5': 'Others'   \n",
    "}\n",
    "\n",
    "#Replace Topics with Topic Names\n",
    "df_clean['Topic'] = df_clean['Topic'].map(Topic_names)"
   ]
  },
  {
   "cell_type": "code",
   "execution_count": 43,
   "metadata": {
    "id": "-2ULY5K6JrGG"
   },
   "outputs": [
    {
     "data": {
      "text/html": [
       "<div>\n",
       "<style scoped>\n",
       "    .dataframe tbody tr th:only-of-type {\n",
       "        vertical-align: middle;\n",
       "    }\n",
       "\n",
       "    .dataframe tbody tr th {\n",
       "        vertical-align: top;\n",
       "    }\n",
       "\n",
       "    .dataframe thead th {\n",
       "        text-align: right;\n",
       "    }\n",
       "</style>\n",
       "<table border=\"1\" class=\"dataframe\">\n",
       "  <thead>\n",
       "    <tr style=\"text-align: right;\">\n",
       "      <th></th>\n",
       "      <th>complaint_what_happened</th>\n",
       "      <th>complaint_lemma</th>\n",
       "      <th>complaint_pos_removed</th>\n",
       "      <th>complaint_clean</th>\n",
       "      <th>Topic</th>\n",
       "    </tr>\n",
       "  </thead>\n",
       "  <tbody>\n",
       "    <tr>\n",
       "      <th>1</th>\n",
       "      <td>good morning my name is xxxx xxxx and i apprec...</td>\n",
       "      <td>good morning name xxxx xxxx appreciate could h...</td>\n",
       "      <td>morning name stop debt verification statement ...</td>\n",
       "      <td>morning name stop debt verification statement ...</td>\n",
       "      <td>Mortgages/loans</td>\n",
       "    </tr>\n",
       "    <tr>\n",
       "      <th>2</th>\n",
       "      <td>i upgraded my xxxx xxxx card in xxxx and was t...</td>\n",
       "      <td>upgraded xxxx xxxx card xxxx told agent upgrad...</td>\n",
       "      <td>xxxx card agent anniversary date agent informa...</td>\n",
       "      <td>card agent anniversary date agent information...</td>\n",
       "      <td>Credit card / Prepaid card</td>\n",
       "    </tr>\n",
       "    <tr>\n",
       "      <th>10</th>\n",
       "      <td>chase card was reported on xxxx however fraudu...</td>\n",
       "      <td>chase card reported xxxx however fraudulent ap...</td>\n",
       "      <td>application identity consent credit identity a...</td>\n",
       "      <td>application identity consent credit identity a...</td>\n",
       "      <td>Theft/Dispute reporting</td>\n",
       "    </tr>\n",
       "    <tr>\n",
       "      <th>11</th>\n",
       "      <td>on xxxx while trying to book a xxxx  xxxx  tic...</td>\n",
       "      <td>xxxx trying book xxxx xxxx ticket came across ...</td>\n",
       "      <td>xxxx xxxx xxxx ticket offer ticket card inform...</td>\n",
       "      <td>ticket offer ticket card information offer ...</td>\n",
       "      <td>Theft/Dispute reporting</td>\n",
       "    </tr>\n",
       "    <tr>\n",
       "      <th>14</th>\n",
       "      <td>my grand son give me check for  i deposit it i...</td>\n",
       "      <td>grand son give check deposit chase account fun...</td>\n",
       "      <td>son chase account fund chase bank account mone...</td>\n",
       "      <td>son chase account fund chase bank account mone...</td>\n",
       "      <td>Bank account services</td>\n",
       "    </tr>\n",
       "    <tr>\n",
       "      <th>...</th>\n",
       "      <td>...</td>\n",
       "      <td>...</td>\n",
       "      <td>...</td>\n",
       "      <td>...</td>\n",
       "      <td>...</td>\n",
       "    </tr>\n",
       "    <tr>\n",
       "      <th>78303</th>\n",
       "      <td>after being a chase card customer for well ove...</td>\n",
       "      <td>chase card customer well decade offered multip...</td>\n",
       "      <td>chase card customer decade credit chase bonus ...</td>\n",
       "      <td>chase card customer decade credit chase bonus ...</td>\n",
       "      <td>Credit card / Prepaid card</td>\n",
       "    </tr>\n",
       "    <tr>\n",
       "      <th>78309</th>\n",
       "      <td>on wednesday xxxxxxxx i called chas my xxxx xx...</td>\n",
       "      <td>wednesday xxxxxxxx called chas xxxx xxxx visa ...</td>\n",
       "      <td>xxxx xxxx visa credit card provider claim purc...</td>\n",
       "      <td>visa credit card provider claim purchase pro...</td>\n",
       "      <td>Credit card / Prepaid card</td>\n",
       "    </tr>\n",
       "    <tr>\n",
       "      <th>78310</th>\n",
       "      <td>i am not familiar with xxxx pay and did not un...</td>\n",
       "      <td>familiar xxxx pay understand great risk provid...</td>\n",
       "      <td>pay risk chase bank app chase banking merchant...</td>\n",
       "      <td>pay risk chase bank app chase banking merchant...</td>\n",
       "      <td>Credit card / Prepaid card</td>\n",
       "    </tr>\n",
       "    <tr>\n",
       "      <th>78311</th>\n",
       "      <td>i have had flawless credit for  yrs ive had ch...</td>\n",
       "      <td>flawless credit yr ive chase credit card chase...</td>\n",
       "      <td>credit chase credit chase freedom balance life...</td>\n",
       "      <td>credit chase credit chase freedom balance life...</td>\n",
       "      <td>Others</td>\n",
       "    </tr>\n",
       "    <tr>\n",
       "      <th>78312</th>\n",
       "      <td>roughly  years ago i closed out my accounts wi...</td>\n",
       "      <td>roughly year ago closed account jp morgan chas...</td>\n",
       "      <td>order line credit account payment payment cred...</td>\n",
       "      <td>order line credit account payment payment cred...</td>\n",
       "      <td>Others</td>\n",
       "    </tr>\n",
       "  </tbody>\n",
       "</table>\n",
       "<p>21072 rows × 5 columns</p>\n",
       "</div>"
      ],
      "text/plain": [
       "                                 complaint_what_happened  \\\n",
       "1      good morning my name is xxxx xxxx and i apprec...   \n",
       "2      i upgraded my xxxx xxxx card in xxxx and was t...   \n",
       "10     chase card was reported on xxxx however fraudu...   \n",
       "11     on xxxx while trying to book a xxxx  xxxx  tic...   \n",
       "14     my grand son give me check for  i deposit it i...   \n",
       "...                                                  ...   \n",
       "78303  after being a chase card customer for well ove...   \n",
       "78309  on wednesday xxxxxxxx i called chas my xxxx xx...   \n",
       "78310  i am not familiar with xxxx pay and did not un...   \n",
       "78311  i have had flawless credit for  yrs ive had ch...   \n",
       "78312  roughly  years ago i closed out my accounts wi...   \n",
       "\n",
       "                                         complaint_lemma  \\\n",
       "1      good morning name xxxx xxxx appreciate could h...   \n",
       "2      upgraded xxxx xxxx card xxxx told agent upgrad...   \n",
       "10     chase card reported xxxx however fraudulent ap...   \n",
       "11     xxxx trying book xxxx xxxx ticket came across ...   \n",
       "14     grand son give check deposit chase account fun...   \n",
       "...                                                  ...   \n",
       "78303  chase card customer well decade offered multip...   \n",
       "78309  wednesday xxxxxxxx called chas xxxx xxxx visa ...   \n",
       "78310  familiar xxxx pay understand great risk provid...   \n",
       "78311  flawless credit yr ive chase credit card chase...   \n",
       "78312  roughly year ago closed account jp morgan chas...   \n",
       "\n",
       "                                   complaint_pos_removed  \\\n",
       "1      morning name stop debt verification statement ...   \n",
       "2      xxxx card agent anniversary date agent informa...   \n",
       "10     application identity consent credit identity a...   \n",
       "11     xxxx xxxx xxxx ticket offer ticket card inform...   \n",
       "14     son chase account fund chase bank account mone...   \n",
       "...                                                  ...   \n",
       "78303  chase card customer decade credit chase bonus ...   \n",
       "78309  xxxx xxxx visa credit card provider claim purc...   \n",
       "78310  pay risk chase bank app chase banking merchant...   \n",
       "78311  credit chase credit chase freedom balance life...   \n",
       "78312  order line credit account payment payment cred...   \n",
       "\n",
       "                                         complaint_clean  \\\n",
       "1      morning name stop debt verification statement ...   \n",
       "2       card agent anniversary date agent information...   \n",
       "10     application identity consent credit identity a...   \n",
       "11        ticket offer ticket card information offer ...   \n",
       "14     son chase account fund chase bank account mone...   \n",
       "...                                                  ...   \n",
       "78303  chase card customer decade credit chase bonus ...   \n",
       "78309    visa credit card provider claim purchase pro...   \n",
       "78310  pay risk chase bank app chase banking merchant...   \n",
       "78311  credit chase credit chase freedom balance life...   \n",
       "78312  order line credit account payment payment cred...   \n",
       "\n",
       "                            Topic  \n",
       "1                 Mortgages/loans  \n",
       "2      Credit card / Prepaid card  \n",
       "10        Theft/Dispute reporting  \n",
       "11        Theft/Dispute reporting  \n",
       "14          Bank account services  \n",
       "...                           ...  \n",
       "78303  Credit card / Prepaid card  \n",
       "78309  Credit card / Prepaid card  \n",
       "78310  Credit card / Prepaid card  \n",
       "78311                      Others  \n",
       "78312                      Others  \n",
       "\n",
       "[21072 rows x 5 columns]"
      ]
     },
     "execution_count": 43,
     "metadata": {},
     "output_type": "execute_result"
    }
   ],
   "source": [
    "df_clean"
   ]
  },
  {
   "cell_type": "markdown",
   "metadata": {
    "id": "7Mu0QBOcJrGH"
   },
   "source": [
    "## Supervised model to predict any new complaints to the relevant Topics.\n",
    "\n",
    "You have now build the model to create the topics for each complaints.Now in the below section you will use them to classify any new complaints.\n",
    "\n",
    "Since you will be using supervised learning technique we have to convert the topic names to numbers(numpy arrays only understand numbers)"
   ]
  },
  {
   "cell_type": "code",
   "execution_count": 44,
   "metadata": {
    "id": "_U8J3J8wJrGH"
   },
   "outputs": [
    {
     "name": "stderr",
     "output_type": "stream",
     "text": [
      "C:\\Users\\balaji\\Anaconda3\\lib\\site-packages\\ipykernel_launcher.py:11: SettingWithCopyWarning:\n",
      "\n",
      "\n",
      "A value is trying to be set on a copy of a slice from a DataFrame.\n",
      "Try using .loc[row_indexer,col_indexer] = value instead\n",
      "\n",
      "See the caveats in the documentation: https://pandas.pydata.org/pandas-docs/stable/user_guide/indexing.html#returning-a-view-versus-a-copy\n",
      "\n"
     ]
    }
   ],
   "source": [
    "#Create the dictionary again of Topic names and Topics\n",
    "\n",
    "Topic_names = {\n",
    "    'Bank account services' : 1,\n",
    "    'Credit card / Prepaid card': 2,\n",
    "    'Mortgages/loans' : 3,\n",
    "    'Theft/Dispute reporting': 4,\n",
    "    'Others': 5   \n",
    "}\n",
    "#Replace Topics with Topic Names\n",
    "df_clean['Topic'] = df_clean['Topic'].map(Topic_names)"
   ]
  },
  {
   "cell_type": "code",
   "execution_count": 45,
   "metadata": {
    "id": "BWIgJUkQJrGH"
   },
   "outputs": [
    {
     "data": {
      "text/html": [
       "<div>\n",
       "<style scoped>\n",
       "    .dataframe tbody tr th:only-of-type {\n",
       "        vertical-align: middle;\n",
       "    }\n",
       "\n",
       "    .dataframe tbody tr th {\n",
       "        vertical-align: top;\n",
       "    }\n",
       "\n",
       "    .dataframe thead th {\n",
       "        text-align: right;\n",
       "    }\n",
       "</style>\n",
       "<table border=\"1\" class=\"dataframe\">\n",
       "  <thead>\n",
       "    <tr style=\"text-align: right;\">\n",
       "      <th></th>\n",
       "      <th>complaint_what_happened</th>\n",
       "      <th>complaint_lemma</th>\n",
       "      <th>complaint_pos_removed</th>\n",
       "      <th>complaint_clean</th>\n",
       "      <th>Topic</th>\n",
       "    </tr>\n",
       "  </thead>\n",
       "  <tbody>\n",
       "    <tr>\n",
       "      <th>1</th>\n",
       "      <td>good morning my name is xxxx xxxx and i apprec...</td>\n",
       "      <td>good morning name xxxx xxxx appreciate could h...</td>\n",
       "      <td>morning name stop debt verification statement ...</td>\n",
       "      <td>morning name stop debt verification statement ...</td>\n",
       "      <td>3</td>\n",
       "    </tr>\n",
       "    <tr>\n",
       "      <th>2</th>\n",
       "      <td>i upgraded my xxxx xxxx card in xxxx and was t...</td>\n",
       "      <td>upgraded xxxx xxxx card xxxx told agent upgrad...</td>\n",
       "      <td>xxxx card agent anniversary date agent informa...</td>\n",
       "      <td>card agent anniversary date agent information...</td>\n",
       "      <td>2</td>\n",
       "    </tr>\n",
       "    <tr>\n",
       "      <th>10</th>\n",
       "      <td>chase card was reported on xxxx however fraudu...</td>\n",
       "      <td>chase card reported xxxx however fraudulent ap...</td>\n",
       "      <td>application identity consent credit identity a...</td>\n",
       "      <td>application identity consent credit identity a...</td>\n",
       "      <td>4</td>\n",
       "    </tr>\n",
       "    <tr>\n",
       "      <th>11</th>\n",
       "      <td>on xxxx while trying to book a xxxx  xxxx  tic...</td>\n",
       "      <td>xxxx trying book xxxx xxxx ticket came across ...</td>\n",
       "      <td>xxxx xxxx xxxx ticket offer ticket card inform...</td>\n",
       "      <td>ticket offer ticket card information offer ...</td>\n",
       "      <td>4</td>\n",
       "    </tr>\n",
       "    <tr>\n",
       "      <th>14</th>\n",
       "      <td>my grand son give me check for  i deposit it i...</td>\n",
       "      <td>grand son give check deposit chase account fun...</td>\n",
       "      <td>son chase account fund chase bank account mone...</td>\n",
       "      <td>son chase account fund chase bank account mone...</td>\n",
       "      <td>1</td>\n",
       "    </tr>\n",
       "    <tr>\n",
       "      <th>...</th>\n",
       "      <td>...</td>\n",
       "      <td>...</td>\n",
       "      <td>...</td>\n",
       "      <td>...</td>\n",
       "      <td>...</td>\n",
       "    </tr>\n",
       "    <tr>\n",
       "      <th>78303</th>\n",
       "      <td>after being a chase card customer for well ove...</td>\n",
       "      <td>chase card customer well decade offered multip...</td>\n",
       "      <td>chase card customer decade credit chase bonus ...</td>\n",
       "      <td>chase card customer decade credit chase bonus ...</td>\n",
       "      <td>2</td>\n",
       "    </tr>\n",
       "    <tr>\n",
       "      <th>78309</th>\n",
       "      <td>on wednesday xxxxxxxx i called chas my xxxx xx...</td>\n",
       "      <td>wednesday xxxxxxxx called chas xxxx xxxx visa ...</td>\n",
       "      <td>xxxx xxxx visa credit card provider claim purc...</td>\n",
       "      <td>visa credit card provider claim purchase pro...</td>\n",
       "      <td>2</td>\n",
       "    </tr>\n",
       "    <tr>\n",
       "      <th>78310</th>\n",
       "      <td>i am not familiar with xxxx pay and did not un...</td>\n",
       "      <td>familiar xxxx pay understand great risk provid...</td>\n",
       "      <td>pay risk chase bank app chase banking merchant...</td>\n",
       "      <td>pay risk chase bank app chase banking merchant...</td>\n",
       "      <td>2</td>\n",
       "    </tr>\n",
       "    <tr>\n",
       "      <th>78311</th>\n",
       "      <td>i have had flawless credit for  yrs ive had ch...</td>\n",
       "      <td>flawless credit yr ive chase credit card chase...</td>\n",
       "      <td>credit chase credit chase freedom balance life...</td>\n",
       "      <td>credit chase credit chase freedom balance life...</td>\n",
       "      <td>5</td>\n",
       "    </tr>\n",
       "    <tr>\n",
       "      <th>78312</th>\n",
       "      <td>roughly  years ago i closed out my accounts wi...</td>\n",
       "      <td>roughly year ago closed account jp morgan chas...</td>\n",
       "      <td>order line credit account payment payment cred...</td>\n",
       "      <td>order line credit account payment payment cred...</td>\n",
       "      <td>5</td>\n",
       "    </tr>\n",
       "  </tbody>\n",
       "</table>\n",
       "<p>21072 rows × 5 columns</p>\n",
       "</div>"
      ],
      "text/plain": [
       "                                 complaint_what_happened  \\\n",
       "1      good morning my name is xxxx xxxx and i apprec...   \n",
       "2      i upgraded my xxxx xxxx card in xxxx and was t...   \n",
       "10     chase card was reported on xxxx however fraudu...   \n",
       "11     on xxxx while trying to book a xxxx  xxxx  tic...   \n",
       "14     my grand son give me check for  i deposit it i...   \n",
       "...                                                  ...   \n",
       "78303  after being a chase card customer for well ove...   \n",
       "78309  on wednesday xxxxxxxx i called chas my xxxx xx...   \n",
       "78310  i am not familiar with xxxx pay and did not un...   \n",
       "78311  i have had flawless credit for  yrs ive had ch...   \n",
       "78312  roughly  years ago i closed out my accounts wi...   \n",
       "\n",
       "                                         complaint_lemma  \\\n",
       "1      good morning name xxxx xxxx appreciate could h...   \n",
       "2      upgraded xxxx xxxx card xxxx told agent upgrad...   \n",
       "10     chase card reported xxxx however fraudulent ap...   \n",
       "11     xxxx trying book xxxx xxxx ticket came across ...   \n",
       "14     grand son give check deposit chase account fun...   \n",
       "...                                                  ...   \n",
       "78303  chase card customer well decade offered multip...   \n",
       "78309  wednesday xxxxxxxx called chas xxxx xxxx visa ...   \n",
       "78310  familiar xxxx pay understand great risk provid...   \n",
       "78311  flawless credit yr ive chase credit card chase...   \n",
       "78312  roughly year ago closed account jp morgan chas...   \n",
       "\n",
       "                                   complaint_pos_removed  \\\n",
       "1      morning name stop debt verification statement ...   \n",
       "2      xxxx card agent anniversary date agent informa...   \n",
       "10     application identity consent credit identity a...   \n",
       "11     xxxx xxxx xxxx ticket offer ticket card inform...   \n",
       "14     son chase account fund chase bank account mone...   \n",
       "...                                                  ...   \n",
       "78303  chase card customer decade credit chase bonus ...   \n",
       "78309  xxxx xxxx visa credit card provider claim purc...   \n",
       "78310  pay risk chase bank app chase banking merchant...   \n",
       "78311  credit chase credit chase freedom balance life...   \n",
       "78312  order line credit account payment payment cred...   \n",
       "\n",
       "                                         complaint_clean  Topic  \n",
       "1      morning name stop debt verification statement ...      3  \n",
       "2       card agent anniversary date agent information...      2  \n",
       "10     application identity consent credit identity a...      4  \n",
       "11        ticket offer ticket card information offer ...      4  \n",
       "14     son chase account fund chase bank account mone...      1  \n",
       "...                                                  ...    ...  \n",
       "78303  chase card customer decade credit chase bonus ...      2  \n",
       "78309    visa credit card provider claim purchase pro...      2  \n",
       "78310  pay risk chase bank app chase banking merchant...      2  \n",
       "78311  credit chase credit chase freedom balance life...      5  \n",
       "78312  order line credit account payment payment cred...      5  \n",
       "\n",
       "[21072 rows x 5 columns]"
      ]
     },
     "execution_count": 45,
     "metadata": {},
     "output_type": "execute_result"
    }
   ],
   "source": [
    "df_clean"
   ]
  },
  {
   "cell_type": "code",
   "execution_count": 46,
   "metadata": {
    "id": "Xx-FrbkWJrGH"
   },
   "outputs": [],
   "source": [
    "#Keep the columns\"complaint_what_happened\" & \"Topic\" only in the new dataframe --> training_data\n",
    "training_data=df_clean[['complaint_what_happened', 'Topic']]"
   ]
  },
  {
   "cell_type": "code",
   "execution_count": 47,
   "metadata": {
    "id": "lVg2pa12JrGI"
   },
   "outputs": [
    {
     "data": {
      "text/html": [
       "<div>\n",
       "<style scoped>\n",
       "    .dataframe tbody tr th:only-of-type {\n",
       "        vertical-align: middle;\n",
       "    }\n",
       "\n",
       "    .dataframe tbody tr th {\n",
       "        vertical-align: top;\n",
       "    }\n",
       "\n",
       "    .dataframe thead th {\n",
       "        text-align: right;\n",
       "    }\n",
       "</style>\n",
       "<table border=\"1\" class=\"dataframe\">\n",
       "  <thead>\n",
       "    <tr style=\"text-align: right;\">\n",
       "      <th></th>\n",
       "      <th>complaint_what_happened</th>\n",
       "      <th>Topic</th>\n",
       "    </tr>\n",
       "  </thead>\n",
       "  <tbody>\n",
       "    <tr>\n",
       "      <th>1</th>\n",
       "      <td>good morning my name is xxxx xxxx and i apprec...</td>\n",
       "      <td>3</td>\n",
       "    </tr>\n",
       "    <tr>\n",
       "      <th>2</th>\n",
       "      <td>i upgraded my xxxx xxxx card in xxxx and was t...</td>\n",
       "      <td>2</td>\n",
       "    </tr>\n",
       "    <tr>\n",
       "      <th>10</th>\n",
       "      <td>chase card was reported on xxxx however fraudu...</td>\n",
       "      <td>4</td>\n",
       "    </tr>\n",
       "    <tr>\n",
       "      <th>11</th>\n",
       "      <td>on xxxx while trying to book a xxxx  xxxx  tic...</td>\n",
       "      <td>4</td>\n",
       "    </tr>\n",
       "    <tr>\n",
       "      <th>14</th>\n",
       "      <td>my grand son give me check for  i deposit it i...</td>\n",
       "      <td>1</td>\n",
       "    </tr>\n",
       "    <tr>\n",
       "      <th>...</th>\n",
       "      <td>...</td>\n",
       "      <td>...</td>\n",
       "    </tr>\n",
       "    <tr>\n",
       "      <th>78303</th>\n",
       "      <td>after being a chase card customer for well ove...</td>\n",
       "      <td>2</td>\n",
       "    </tr>\n",
       "    <tr>\n",
       "      <th>78309</th>\n",
       "      <td>on wednesday xxxxxxxx i called chas my xxxx xx...</td>\n",
       "      <td>2</td>\n",
       "    </tr>\n",
       "    <tr>\n",
       "      <th>78310</th>\n",
       "      <td>i am not familiar with xxxx pay and did not un...</td>\n",
       "      <td>2</td>\n",
       "    </tr>\n",
       "    <tr>\n",
       "      <th>78311</th>\n",
       "      <td>i have had flawless credit for  yrs ive had ch...</td>\n",
       "      <td>5</td>\n",
       "    </tr>\n",
       "    <tr>\n",
       "      <th>78312</th>\n",
       "      <td>roughly  years ago i closed out my accounts wi...</td>\n",
       "      <td>5</td>\n",
       "    </tr>\n",
       "  </tbody>\n",
       "</table>\n",
       "<p>21072 rows × 2 columns</p>\n",
       "</div>"
      ],
      "text/plain": [
       "                                 complaint_what_happened  Topic\n",
       "1      good morning my name is xxxx xxxx and i apprec...      3\n",
       "2      i upgraded my xxxx xxxx card in xxxx and was t...      2\n",
       "10     chase card was reported on xxxx however fraudu...      4\n",
       "11     on xxxx while trying to book a xxxx  xxxx  tic...      4\n",
       "14     my grand son give me check for  i deposit it i...      1\n",
       "...                                                  ...    ...\n",
       "78303  after being a chase card customer for well ove...      2\n",
       "78309  on wednesday xxxxxxxx i called chas my xxxx xx...      2\n",
       "78310  i am not familiar with xxxx pay and did not un...      2\n",
       "78311  i have had flawless credit for  yrs ive had ch...      5\n",
       "78312  roughly  years ago i closed out my accounts wi...      5\n",
       "\n",
       "[21072 rows x 2 columns]"
      ]
     },
     "execution_count": 47,
     "metadata": {},
     "output_type": "execute_result"
    }
   ],
   "source": [
    "training_data"
   ]
  },
  {
   "cell_type": "markdown",
   "metadata": {
    "id": "280Vbqk-7a8M"
   },
   "source": [
    "####Apply the supervised models on the training data created. In this process, you have to do the following:\n",
    "* Create the vector counts using Count Vectoriser\n",
    "* Transform the word vecotr to tf-idf\n",
    "* Create the train & test data using the train_test_split on the tf-idf & topics\n"
   ]
  },
  {
   "cell_type": "code",
   "execution_count": 48,
   "metadata": {},
   "outputs": [],
   "source": [
    "from sklearn.feature_extraction.text import TfidfTransformer"
   ]
  },
  {
   "cell_type": "code",
   "execution_count": 49,
   "metadata": {
    "id": "oUlQpgkzJrGI"
   },
   "outputs": [],
   "source": [
    "#Write your code to get the Vector count\n",
    "count_vect = CountVectorizer()\n",
    "X = count_vect.fit_transform(training_data.complaint_what_happened)\n",
    "\n",
    "#Write your code here to transform the word vector to tf-idf\n",
    "tfidf_transformer = TfidfTransformer()\n",
    "X_train_tfidf = tfidf_transformer.fit_transform(X)\n",
    "\n",
    "y= training_data.Topic"
   ]
  },
  {
   "cell_type": "markdown",
   "metadata": {
    "id": "uMU3vj6w-wqL"
   },
   "source": [
    "You have to try atleast 2 models on the train & test data from these options:\n",
    "* Logistic regression\n",
    "* Decision Tree\n",
    "* Random Forest\n",
    "* Naive Bayes (optional)\n",
    "\n",
    "**Using the required evaluation metrics judge the tried models and select the ones performing the best**"
   ]
  },
  {
   "cell_type": "code",
   "execution_count": 50,
   "metadata": {},
   "outputs": [],
   "source": [
    "from sklearn import metrics\n",
    "import pickle"
   ]
  },
  {
   "cell_type": "code",
   "execution_count": 51,
   "metadata": {},
   "outputs": [],
   "source": [
    "def evaluate_model(y, y_pred):\n",
    "    \n",
    "    result_metrics = [] \n",
    "    def evaluate_scores(y, y_pred):\n",
    "        accuracy = metrics.accuracy_score(y, y_pred)\n",
    "        precision = metrics.precision_score(y_test, y_pred_class,average='weighted')\n",
    "        recall = metrics.recall_score(y_test, y_pred_class,average='weighted')\n",
    "        f1score = metrics.f1_score(y_test, y_pred_class,average='weighted')\n",
    "        print(\"ACCURACY SCORE :\", accuracy)\n",
    "        print(\"PRECISION SCORE :\", precision)\n",
    "        print(\"RECALL SCORE :\", recall)\n",
    "        print(\"F1 SCORE :\",f1score)\n",
    "        result_metrics.append(accuracy)\n",
    "        result_metrics.append(precision)\n",
    "        result_metrics.append(recall)\n",
    "        result_metrics.append(f1score)\n",
    "       \n",
    "    def confusion_matrix(y, y_pred):\n",
    "        confusion = metrics.confusion_matrix(y_test, y_pred_class)\n",
    "        #print(confusion)\n",
    "        \n",
    "        def plot_confusion_matrix(data, labels):\n",
    "            sns.set(color_codes=True)\n",
    "            plt.figure(1, figsize=(15, 9))\n",
    "            plt.title(\"Confusion Matrix\")\n",
    " \n",
    "            sns.set(font_scale=1.4)\n",
    "            ax = sns.heatmap(data, annot=True, cmap=\"YlGnBu\", cbar_kws={'label': 'Scale'}, fmt=\"\")\n",
    " \n",
    "            ax.set_xticklabels(labels)\n",
    "            ax.set_yticklabels(labels)\n",
    " \n",
    "            ax.set(ylabel=\"True Label\", xlabel=\"Predicted Label\")\n",
    "            plt.show()\n",
    "        \n",
    "        # define labels\n",
    "        labels = [0,1,2,3,4]\n",
    "        plot_confusion_matrix(confusion,labels)\n",
    "    \n",
    "    evaluate_scores(y, y_pred)\n",
    "    confusion_matrix(y, y_pred)\n",
    "    return result_metrics"
   ]
  },
  {
   "cell_type": "code",
   "execution_count": 52,
   "metadata": {},
   "outputs": [],
   "source": [
    "def train_predict_model(model, model_name, x_train, y_train, x_test):\n",
    "    model.fit(x_train,y_train)\n",
    "    filename = model_name+'.sav'\n",
    "    pickle.dump(model, open(filename, 'wb'))\n",
    "    return model.predict(x_test)"
   ]
  },
  {
   "cell_type": "code",
   "execution_count": 53,
   "metadata": {},
   "outputs": [],
   "source": [
    "#y = y.values.reshape(-1,1)"
   ]
  },
  {
   "cell_type": "code",
   "execution_count": 54,
   "metadata": {},
   "outputs": [],
   "source": [
    "# splitting into test and train\n",
    "from sklearn.model_selection  import train_test_split\n",
    "X_train, X_test, y_train, y_test = train_test_split(X_train_tfidf, y, random_state=1)"
   ]
  },
  {
   "cell_type": "code",
   "execution_count": 55,
   "metadata": {},
   "outputs": [
    {
     "name": "stdout",
     "output_type": "stream",
     "text": [
      "Shape of X_train: (15804, 33785)\n",
      "Shape of y_train: (15804,)\n",
      "Shape of X_test: (5268, 33785)\n",
      "Shape of y_test: (5268,)\n"
     ]
    }
   ],
   "source": [
    "print(f\"Shape of X_train: {X_train.shape}\")\n",
    "print(f\"Shape of y_train: {y_train.shape}\")\n",
    "print(f\"Shape of X_test: {X_test.shape}\")\n",
    "print(f\"Shape of y_test: {y_test.shape}\")"
   ]
  },
  {
   "cell_type": "markdown",
   "metadata": {},
   "source": [
    "#### Model 1: Logistic Regression"
   ]
  },
  {
   "cell_type": "code",
   "execution_count": 56,
   "metadata": {},
   "outputs": [],
   "source": [
    "from sklearn.linear_model import LogisticRegression\n",
    "logreg = LogisticRegression(multi_class='multinomial',solver='lbfgs')"
   ]
  },
  {
   "cell_type": "code",
   "execution_count": 57,
   "metadata": {},
   "outputs": [
    {
     "name": "stderr",
     "output_type": "stream",
     "text": [
      "C:\\Users\\balaji\\Anaconda3\\lib\\site-packages\\sklearn\\linear_model\\_logistic.py:764: ConvergenceWarning:\n",
      "\n",
      "lbfgs failed to converge (status=1):\n",
      "STOP: TOTAL NO. of ITERATIONS REACHED LIMIT.\n",
      "\n",
      "Increase the number of iterations (max_iter) or scale the data as shown in:\n",
      "    https://scikit-learn.org/stable/modules/preprocessing.html\n",
      "Please also refer to the documentation for alternative solver options:\n",
      "    https://scikit-learn.org/stable/modules/linear_model.html#logistic-regression\n",
      "\n"
     ]
    }
   ],
   "source": [
    "y_pred_class = train_predict_model(logreg,'LogisticRegression',X_train, y_train,X_test)"
   ]
  },
  {
   "cell_type": "code",
   "execution_count": 58,
   "metadata": {},
   "outputs": [
    {
     "name": "stdout",
     "output_type": "stream",
     "text": [
      "ACCURACY SCORE : 0.9248291571753986\n",
      "PRECISION SCORE : 0.9259175835229873\n",
      "RECALL SCORE : 0.9248291571753986\n",
      "F1 SCORE : 0.9243233018395431\n"
     ]
    },
    {
     "data": {
      "image/png": "[encoded data removed]",
      "text/plain": [
       "<Figure size 1080x648 with 2 Axes>"
      ]
     },
     "metadata": {},
     "output_type": "display_data"
    }
   ],
   "source": [
    "lr_metrics  = evaluate_model(y_test, y_pred_class)"
   ]
  },
  {
   "cell_type": "markdown",
   "metadata": {},
   "source": [
    "#### Model 2: Naive Bayes"
   ]
  },
  {
   "cell_type": "code",
   "execution_count": 59,
   "metadata": {
    "id": "udLHpPsZJrGI"
   },
   "outputs": [],
   "source": [
    "# Write your code here to build any 3 models and evaluate them using the required metrics\n",
    "# training the NB model and making predictions\n",
    "from sklearn.naive_bayes import MultinomialNB\n",
    "mnb = MultinomialNB()"
   ]
  },
  {
   "cell_type": "code",
   "execution_count": 60,
   "metadata": {},
   "outputs": [],
   "source": [
    "y_pred_class = train_predict_model(mnb,'NaiveBayes',X_train, y_train,X_test)"
   ]
  },
  {
   "cell_type": "code",
   "execution_count": 61,
   "metadata": {
    "id": "N2OznsObJrGP"
   },
   "outputs": [
    {
     "name": "stdout",
     "output_type": "stream",
     "text": [
      "ACCURACY SCORE : 0.6524297646165528\n",
      "PRECISION SCORE : 0.7371356467012824\n",
      "RECALL SCORE : 0.6524297646165528\n",
      "F1 SCORE : 0.5960413385776739\n"
     ]
    },
    {
     "data": {
      "image/png": "[encoded data removed]",
      "text/plain": [
       "<Figure size 1080x648 with 2 Axes>"
      ]
     },
     "metadata": {},
     "output_type": "display_data"
    }
   ],
   "source": [
    "nb_metrics = evaluate_model(y_test, y_pred_class)"
   ]
  },
  {
   "cell_type": "markdown",
   "metadata": {},
   "source": [
    "#### Model 3 - Decision Tree"
   ]
  },
  {
   "cell_type": "code",
   "execution_count": 62,
   "metadata": {},
   "outputs": [],
   "source": [
    "from sklearn.tree import DecisionTreeClassifier"
   ]
  },
  {
   "cell_type": "code",
   "execution_count": 63,
   "metadata": {},
   "outputs": [],
   "source": [
    "dt_base = DecisionTreeClassifier(random_state=42, max_depth=4)"
   ]
  },
  {
   "cell_type": "code",
   "execution_count": 64,
   "metadata": {},
   "outputs": [],
   "source": [
    "y_pred_class = train_predict_model(dt_base,'DecisionTree',X_train, y_train,X_test)"
   ]
  },
  {
   "cell_type": "code",
   "execution_count": 65,
   "metadata": {},
   "outputs": [
    {
     "name": "stdout",
     "output_type": "stream",
     "text": [
      "ACCURACY SCORE : 0.708997722095672\n",
      "PRECISION SCORE : 0.7396316650415039\n",
      "RECALL SCORE : 0.708997722095672\n",
      "F1 SCORE : 0.7130155387603981\n"
     ]
    },
    {
     "data": {
      "image/png": "[encoded data removed]",
      "text/plain": [
       "<Figure size 1080x648 with 2 Axes>"
      ]
     },
     "metadata": {},
     "output_type": "display_data"
    }
   ],
   "source": [
    "dt_metrics = evaluate_model(y_test, y_pred_class)"
   ]
  },
  {
   "cell_type": "markdown",
   "metadata": {},
   "source": [
    "#### Model 4: Decision Tree using Grid searchCV"
   ]
  },
  {
   "cell_type": "code",
   "execution_count": 66,
   "metadata": {},
   "outputs": [],
   "source": [
    "from sklearn.model_selection import GridSearchCV"
   ]
  },
  {
   "cell_type": "code",
   "execution_count": 67,
   "metadata": {},
   "outputs": [],
   "source": [
    "dt = DecisionTreeClassifier(random_state=42)"
   ]
  },
  {
   "cell_type": "code",
   "execution_count": 68,
   "metadata": {},
   "outputs": [],
   "source": [
    "params = {\n",
    "    \"max_depth\": [2,3,5,10],\n",
    "    \"min_samples_leaf\": [5,10,20,50]\n",
    "}\n",
    "\n",
    "grid_search = GridSearchCV(estimator=dt,\n",
    "                           param_grid=params,\n",
    "                           cv=4,\n",
    "                           n_jobs=-1, verbose=1, scoring=\"accuracy\")"
   ]
  },
  {
   "cell_type": "code",
   "execution_count": 69,
   "metadata": {},
   "outputs": [
    {
     "name": "stdout",
     "output_type": "stream",
     "text": [
      "Fitting 4 folds for each of 16 candidates, totalling 64 fits\n"
     ]
    },
    {
     "name": "stderr",
     "output_type": "stream",
     "text": [
      "[Parallel(n_jobs=-1)]: Using backend LokyBackend with 8 concurrent workers.\n",
      "[Parallel(n_jobs=-1)]: Done  34 tasks      | elapsed:   12.6s\n",
      "[Parallel(n_jobs=-1)]: Done  64 out of  64 | elapsed:   31.4s finished\n"
     ]
    },
    {
     "name": "stdout",
     "output_type": "stream",
     "text": [
      "Wall time: 39.8 s\n"
     ]
    },
    {
     "data": {
      "text/plain": [
       "GridSearchCV(cv=4, estimator=DecisionTreeClassifier(random_state=42), n_jobs=-1,\n",
       "             param_grid={'max_depth': [2, 3, 5, 10],\n",
       "                         'min_samples_leaf': [5, 10, 20, 50]},\n",
       "             scoring='accuracy', verbose=1)"
      ]
     },
     "execution_count": 69,
     "metadata": {},
     "output_type": "execute_result"
    }
   ],
   "source": [
    "%%time\n",
    "grid_search.fit(X_train, y_train)"
   ]
  },
  {
   "cell_type": "code",
   "execution_count": 70,
   "metadata": {},
   "outputs": [
    {
     "data": {
      "text/plain": [
       "0.820361933687674"
      ]
     },
     "execution_count": 70,
     "metadata": {},
     "output_type": "execute_result"
    }
   ],
   "source": [
    "grid_search.best_score_"
   ]
  },
  {
   "cell_type": "code",
   "execution_count": 71,
   "metadata": {},
   "outputs": [
    {
     "data": {
      "text/plain": [
       "DecisionTreeClassifier(max_depth=10, min_samples_leaf=10, random_state=42)"
      ]
     },
     "execution_count": 71,
     "metadata": {},
     "output_type": "execute_result"
    }
   ],
   "source": [
    "dt_best = grid_search.best_estimator_\n",
    "dt_best"
   ]
  },
  {
   "cell_type": "code",
   "execution_count": 72,
   "metadata": {},
   "outputs": [],
   "source": [
    "y_pred_class = dt_best.predict(X_test)"
   ]
  },
  {
   "cell_type": "code",
   "execution_count": 73,
   "metadata": {},
   "outputs": [
    {
     "name": "stdout",
     "output_type": "stream",
     "text": [
      "ACCURACY SCORE : 0.8230827638572513\n",
      "PRECISION SCORE : 0.8288449703488029\n",
      "RECALL SCORE : 0.8230827638572513\n",
      "F1 SCORE : 0.8232681846254529\n"
     ]
    },
    {
     "data": {
      "image/png": "[encoded data removed]",
      "text/plain": [
       "<Figure size 1080x648 with 2 Axes>"
      ]
     },
     "metadata": {},
     "output_type": "display_data"
    }
   ],
   "source": [
    "dt_metrics_cv = evaluate_model(y_test, y_pred_class)"
   ]
  },
  {
   "cell_type": "markdown",
   "metadata": {},
   "source": [
    "#### Model 5 : Random Forrest"
   ]
  },
  {
   "cell_type": "code",
   "execution_count": 74,
   "metadata": {},
   "outputs": [],
   "source": [
    "from sklearn.ensemble import RandomForestClassifier"
   ]
  },
  {
   "cell_type": "code",
   "execution_count": 75,
   "metadata": {},
   "outputs": [],
   "source": [
    "rf = RandomForestClassifier(random_state=42, n_jobs=-1)"
   ]
  },
  {
   "cell_type": "code",
   "execution_count": 76,
   "metadata": {},
   "outputs": [],
   "source": [
    "params = {\n",
    "    'max_depth': [2,3,5,10,50],\n",
    "    'min_samples_leaf': [5,10,20,50,100],\n",
    "    'n_estimators': [10, 25, 50, 100]\n",
    "}"
   ]
  },
  {
   "cell_type": "code",
   "execution_count": 77,
   "metadata": {},
   "outputs": [],
   "source": [
    "grid_search = GridSearchCV(estimator=rf,\n",
    "                           param_grid=params,\n",
    "                           cv = 4,\n",
    "                           n_jobs=-1, verbose=1, scoring=\"accuracy\")"
   ]
  },
  {
   "cell_type": "code",
   "execution_count": 78,
   "metadata": {},
   "outputs": [
    {
     "name": "stdout",
     "output_type": "stream",
     "text": [
      "Fitting 4 folds for each of 100 candidates, totalling 400 fits\n"
     ]
    },
    {
     "name": "stderr",
     "output_type": "stream",
     "text": [
      "[Parallel(n_jobs=-1)]: Using backend LokyBackend with 8 concurrent workers.\n",
      "[Parallel(n_jobs=-1)]: Done  34 tasks      | elapsed:    7.0s\n",
      "[Parallel(n_jobs=-1)]: Done 184 tasks      | elapsed:   39.7s\n",
      "[Parallel(n_jobs=-1)]: Done 400 out of 400 | elapsed:  2.7min finished\n"
     ]
    },
    {
     "name": "stdout",
     "output_type": "stream",
     "text": [
      "Wall time: 2min 48s\n"
     ]
    },
    {
     "data": {
      "text/plain": [
       "GridSearchCV(cv=4, estimator=RandomForestClassifier(n_jobs=-1, random_state=42),\n",
       "             n_jobs=-1,\n",
       "             param_grid={'max_depth': [2, 3, 5, 10, 50],\n",
       "                         'min_samples_leaf': [5, 10, 20, 50, 100],\n",
       "                         'n_estimators': [10, 25, 50, 100]},\n",
       "             scoring='accuracy', verbose=1)"
      ]
     },
     "execution_count": 78,
     "metadata": {},
     "output_type": "execute_result"
    }
   ],
   "source": [
    "%%time\n",
    "grid_search.fit(X_train, y_train)"
   ]
  },
  {
   "cell_type": "code",
   "execution_count": 79,
   "metadata": {},
   "outputs": [
    {
     "data": {
      "text/plain": [
       "0.7706276891926094"
      ]
     },
     "execution_count": 79,
     "metadata": {},
     "output_type": "execute_result"
    }
   ],
   "source": [
    "grid_search.best_score_"
   ]
  },
  {
   "cell_type": "code",
   "execution_count": 80,
   "metadata": {},
   "outputs": [
    {
     "data": {
      "text/plain": [
       "RandomForestClassifier(max_depth=50, min_samples_leaf=5, n_jobs=-1,\n",
       "                       random_state=42)"
      ]
     },
     "execution_count": 80,
     "metadata": {},
     "output_type": "execute_result"
    }
   ],
   "source": [
    "rf_best = grid_search.best_estimator_\n",
    "rf_best"
   ]
  },
  {
   "cell_type": "code",
   "execution_count": 81,
   "metadata": {},
   "outputs": [],
   "source": [
    "y_pred_class = rf_best.predict(X_test)"
   ]
  },
  {
   "cell_type": "code",
   "execution_count": 82,
   "metadata": {},
   "outputs": [
    {
     "name": "stdout",
     "output_type": "stream",
     "text": [
      "ACCURACY SCORE : 0.7877752467729688\n",
      "PRECISION SCORE : 0.8060172548041066\n",
      "RECALL SCORE : 0.7877752467729688\n",
      "F1 SCORE : 0.7718188813302318\n"
     ]
    },
    {
     "data": {
      "image/png": "[encoded data removed]",
      "text/plain": [
       "<Figure size 1080x648 with 2 Axes>"
      ]
     },
     "metadata": {},
     "output_type": "display_data"
    }
   ],
   "source": [
    "rf_metrics = evaluate_model(y_test, y_pred_class)"
   ]
  },
  {
   "cell_type": "markdown",
   "metadata": {},
   "source": [
    "#### Model Inference"
   ]
  },
  {
   "cell_type": "code",
   "execution_count": 83,
   "metadata": {},
   "outputs": [
    {
     "data": {
      "text/html": [
       "<div>\n",
       "<style scoped>\n",
       "    .dataframe tbody tr th:only-of-type {\n",
       "        vertical-align: middle;\n",
       "    }\n",
       "\n",
       "    .dataframe tbody tr th {\n",
       "        vertical-align: top;\n",
       "    }\n",
       "\n",
       "    .dataframe thead th {\n",
       "        text-align: right;\n",
       "    }\n",
       "</style>\n",
       "<table border=\"1\" class=\"dataframe\">\n",
       "  <thead>\n",
       "    <tr style=\"text-align: right;\">\n",
       "      <th></th>\n",
       "      <th>Metric</th>\n",
       "      <th>Logistic Regression</th>\n",
       "      <th>Naive Bayes</th>\n",
       "      <th>Decision Tree</th>\n",
       "      <th>Random Forrest</th>\n",
       "    </tr>\n",
       "  </thead>\n",
       "  <tbody>\n",
       "    <tr>\n",
       "      <th>0</th>\n",
       "      <td>Accuracy</td>\n",
       "      <td>0.924829</td>\n",
       "      <td>0.652430</td>\n",
       "      <td>0.708998</td>\n",
       "      <td>0.787775</td>\n",
       "    </tr>\n",
       "    <tr>\n",
       "      <th>1</th>\n",
       "      <td>Precision</td>\n",
       "      <td>0.925918</td>\n",
       "      <td>0.737136</td>\n",
       "      <td>0.739632</td>\n",
       "      <td>0.806017</td>\n",
       "    </tr>\n",
       "    <tr>\n",
       "      <th>2</th>\n",
       "      <td>Recall</td>\n",
       "      <td>0.924829</td>\n",
       "      <td>0.652430</td>\n",
       "      <td>0.708998</td>\n",
       "      <td>0.787775</td>\n",
       "    </tr>\n",
       "    <tr>\n",
       "      <th>3</th>\n",
       "      <td>F1Score</td>\n",
       "      <td>0.924323</td>\n",
       "      <td>0.596041</td>\n",
       "      <td>0.713016</td>\n",
       "      <td>0.771819</td>\n",
       "    </tr>\n",
       "  </tbody>\n",
       "</table>\n",
       "</div>"
      ],
      "text/plain": [
       "      Metric  Logistic Regression  Naive Bayes  Decision Tree  Random Forrest\n",
       "0   Accuracy             0.924829     0.652430       0.708998        0.787775\n",
       "1  Precision             0.925918     0.737136       0.739632        0.806017\n",
       "2     Recall             0.924829     0.652430       0.708998        0.787775\n",
       "3    F1Score             0.924323     0.596041       0.713016        0.771819"
      ]
     },
     "execution_count": 83,
     "metadata": {},
     "output_type": "execute_result"
    }
   ],
   "source": [
    "# Creating a table which contain all the metrics\n",
    "\n",
    "metrics_table = {'Metric': ['Accuracy','Precision','Recall',\n",
    "                       'F1Score'], \n",
    "        'Logistic Regression': lr_metrics,\n",
    "        'Naive Bayes': nb_metrics,\n",
    "        'Decision Tree': dt_metrics,\n",
    "         'Random Forrest': rf_metrics,\n",
    "        }\n",
    "\n",
    "df_metrics = pd.DataFrame(metrics_table ,columns = ['Metric', 'Logistic Regression', 'Naive Bayes','Decision Tree','Random Forrest'] )\n",
    "\n",
    "df_metrics\n",
    "\n"
   ]
  },
  {
   "cell_type": "markdown",
   "metadata": {},
   "source": [
    "Logistic Regression performs better with F1 score of 92% and it performs better the other models experimented and hence choosing it as a better model"
   ]
  },
  {
   "cell_type": "code",
   "execution_count": 84,
   "metadata": {},
   "outputs": [],
   "source": [
    "logreg_model = pickle.load(open('LogisticRegression.sav', 'rb'))\n",
    "\n",
    "sample_complaint = \"My Credit card is not working since yesterday. Please fix it ASAP.\"\n",
    "vectorized = tfidf_transformer.transform(count_vect.transform([sample_complaint]))\n",
    "predictions = logreg_model.predict(vectorized)"
   ]
  },
  {
   "cell_type": "code",
   "execution_count": 85,
   "metadata": {},
   "outputs": [
    {
     "name": "stdout",
     "output_type": "stream",
     "text": [
      "['Credit card / Prepaid card']\n"
     ]
    }
   ],
   "source": [
    "if len(predictions)>0:\n",
    "    print([k for k, v in Topic_names.items() if v==predictions[0]])"
   ]
  },
  {
   "cell_type": "code",
   "execution_count": null,
   "metadata": {},
   "outputs": [],
   "source": []
  }
 ],
 "metadata": {
  "colab": {
   "collapsed_sections": [
    "T9jD_6SeJrF3",
    "5DfCSbbmJrF4",
    "yYzD85nTJrGA",
    "piyLxzj6v07j",
    "280Vbqk-7a8M"
   ],
   "name": "Automatic_Ticket_Classification_Starter_code.ipynb",
   "provenance": []
  },
  "kernelspec": {
   "display_name": "Python 3 (ipykernel)",
   "language": "python",
   "name": "python3"
  },
  "language_info": {
   "codemirror_mode": {
    "name": "ipython",
    "version": 3
   },
   "file_extension": ".py",
   "mimetype": "text/x-python",
   "name": "python",
   "nbconvert_exporter": "python",
   "pygments_lexer": "ipython3",
   "version": "3.9.7"
  }
 },
 "nbformat": 4,
 "nbformat_minor": 1
}
